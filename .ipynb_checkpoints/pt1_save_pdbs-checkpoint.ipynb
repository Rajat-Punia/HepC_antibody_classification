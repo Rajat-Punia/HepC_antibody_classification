{
 "cells": [
  {
   "cell_type": "markdown",
   "id": "1a7c8614-b6b7-43aa-b5fb-90b789748e9f",
   "metadata": {},
   "source": [
    "### Script summary (PDB download → filter → renumber)\n",
    "\n",
    "- Reads `input.csv` with columns: `pdb_id, antigen_chain, heavy_chain, light_chain, antibody name`.\n",
    "- Downloads PDB structure file to the directory `pdb_files/` \n",
    "- Keeps only specified chains; excludes waters and heteroatoms.\n",
    "- Saves filtered file as `<pdbid>_<chains>_new.pdb`, then renumbers via ANARCI `ImmunoPDB.py` (Chothia) to `<pdbid>_<chains>_renumbered.pdb`.\n",
    "- Requires: `biopython`, `pandas`, ANARCI installed and `ImmunoPDB.py` path valid.\n"
   ]
  },
  {
   "cell_type": "code",
   "execution_count": 2,
   "id": "2081c28c-d577-4401-93b8-962fc039a8c7",
   "metadata": {},
   "outputs": [
    {
     "name": "stdout",
     "output_type": "stream",
     "text": [
      "Downloading PDB structure '4mwf'...\n"
     ]
    },
    {
     "name": "stderr",
     "output_type": "stream",
     "text": [
      "/home/rp693/ANARCI/Example_scripts_and_sequences/ImmunoPDB.py:11: SyntaxWarning: invalid escape sequence '\\ '\n",
      "  description='''\n"
     ]
    },
    {
     "name": "stdout",
     "output_type": "stream",
     "text": [
      "Downloading PDB structure '4web'...\n"
     ]
    },
    {
     "name": "stderr",
     "output_type": "stream",
     "text": [
      "/home/rp693/ANARCI/Example_scripts_and_sequences/ImmunoPDB.py:11: SyntaxWarning: invalid escape sequence '\\ '\n",
      "  description='''\n"
     ]
    },
    {
     "name": "stdout",
     "output_type": "stream",
     "text": [
      "Downloading PDB structure '6bkb'...\n"
     ]
    },
    {
     "name": "stderr",
     "output_type": "stream",
     "text": [
      "/home/rp693/ANARCI/Example_scripts_and_sequences/ImmunoPDB.py:11: SyntaxWarning: invalid escape sequence '\\ '\n",
      "  description='''\n"
     ]
    },
    {
     "name": "stdout",
     "output_type": "stream",
     "text": [
      "Downloading PDB structure '6bkc'...\n"
     ]
    },
    {
     "name": "stderr",
     "output_type": "stream",
     "text": [
      "/home/rp693/ANARCI/Example_scripts_and_sequences/ImmunoPDB.py:11: SyntaxWarning: invalid escape sequence '\\ '\n",
      "  description='''\n"
     ]
    },
    {
     "name": "stdout",
     "output_type": "stream",
     "text": [
      "Downloading PDB structure '6bkd'...\n"
     ]
    },
    {
     "name": "stderr",
     "output_type": "stream",
     "text": [
      "/home/rp693/ANARCI/Example_scripts_and_sequences/ImmunoPDB.py:11: SyntaxWarning: invalid escape sequence '\\ '\n",
      "  description='''\n"
     ]
    },
    {
     "name": "stdout",
     "output_type": "stream",
     "text": [
      "Downloading PDB structure '6meh'...\n"
     ]
    },
    {
     "name": "stderr",
     "output_type": "stream",
     "text": [
      "/home/rp693/ANARCI/Example_scripts_and_sequences/ImmunoPDB.py:11: SyntaxWarning: invalid escape sequence '\\ '\n",
      "  description='''\n"
     ]
    },
    {
     "name": "stdout",
     "output_type": "stream",
     "text": [
      "Downloading PDB structure '6mei'...\n"
     ]
    },
    {
     "name": "stderr",
     "output_type": "stream",
     "text": [
      "/home/rp693/ANARCI/Example_scripts_and_sequences/ImmunoPDB.py:11: SyntaxWarning: invalid escape sequence '\\ '\n",
      "  description='''\n"
     ]
    },
    {
     "name": "stdout",
     "output_type": "stream",
     "text": [
      "Downloading PDB structure '6mej'...\n"
     ]
    },
    {
     "name": "stderr",
     "output_type": "stream",
     "text": [
      "/home/rp693/ANARCI/Example_scripts_and_sequences/ImmunoPDB.py:11: SyntaxWarning: invalid escape sequence '\\ '\n",
      "  description='''\n"
     ]
    },
    {
     "name": "stdout",
     "output_type": "stream",
     "text": [
      "Structure exists: 'pdb_files/pdb6mej.ent' \n"
     ]
    },
    {
     "name": "stderr",
     "output_type": "stream",
     "text": [
      "/home/rp693/ANARCI/Example_scripts_and_sequences/ImmunoPDB.py:11: SyntaxWarning: invalid escape sequence '\\ '\n",
      "  description='''\n",
      "/home/rp693/miniconda3/lib/python3.12/site-packages/Bio/PDB/Entity.py:197: BiopythonWarning: The id `(' ', 28, ' ')` is already used for a sibling of this entity. Changing id from `(' ', 27, 'A')` to `(' ', 28, ' ')` might create access inconsistencies to children of the parent entity.\n",
      "  warnings.warn(\n",
      "/home/rp693/miniconda3/lib/python3.12/site-packages/Bio/PDB/Entity.py:197: BiopythonWarning: The id `(' ', 29, ' ')` is already used for a sibling of this entity. Changing id from `(' ', 27, 'B')` to `(' ', 29, ' ')` might create access inconsistencies to children of the parent entity.\n",
      "  warnings.warn(\n",
      "/home/rp693/miniconda3/lib/python3.12/site-packages/Bio/PDB/Entity.py:197: BiopythonWarning: The id `(' ', 30, ' ')` is already used for a sibling of this entity. Changing id from `(' ', 28, ' ')` to `(' ', 30, ' ')` might create access inconsistencies to children of the parent entity.\n",
      "  warnings.warn(\n"
     ]
    },
    {
     "name": "stdout",
     "output_type": "stream",
     "text": [
      "Downloading PDB structure '6mek'...\n"
     ]
    },
    {
     "name": "stderr",
     "output_type": "stream",
     "text": [
      "/home/rp693/ANARCI/Example_scripts_and_sequences/ImmunoPDB.py:11: SyntaxWarning: invalid escape sequence '\\ '\n",
      "  description='''\n"
     ]
    },
    {
     "name": "stdout",
     "output_type": "stream",
     "text": [
      "Structure exists: 'pdb_files/pdb6mek.ent' \n"
     ]
    },
    {
     "name": "stderr",
     "output_type": "stream",
     "text": [
      "/home/rp693/ANARCI/Example_scripts_and_sequences/ImmunoPDB.py:11: SyntaxWarning: invalid escape sequence '\\ '\n",
      "  description='''\n",
      "/home/rp693/miniconda3/lib/python3.12/site-packages/Bio/PDB/Entity.py:197: BiopythonWarning: The id `(' ', 28, ' ')` is already used for a sibling of this entity. Changing id from `(' ', 27, 'A')` to `(' ', 28, ' ')` might create access inconsistencies to children of the parent entity.\n",
      "  warnings.warn(\n",
      "/home/rp693/miniconda3/lib/python3.12/site-packages/Bio/PDB/Entity.py:197: BiopythonWarning: The id `(' ', 29, ' ')` is already used for a sibling of this entity. Changing id from `(' ', 27, 'B')` to `(' ', 29, ' ')` might create access inconsistencies to children of the parent entity.\n",
      "  warnings.warn(\n",
      "/home/rp693/miniconda3/lib/python3.12/site-packages/Bio/PDB/Entity.py:197: BiopythonWarning: The id `(' ', 30, ' ')` is already used for a sibling of this entity. Changing id from `(' ', 28, ' ')` to `(' ', 30, ' ')` might create access inconsistencies to children of the parent entity.\n",
      "  warnings.warn(\n"
     ]
    },
    {
     "name": "stdout",
     "output_type": "stream",
     "text": [
      "Downloading PDB structure '6urh'...\n"
     ]
    },
    {
     "name": "stderr",
     "output_type": "stream",
     "text": [
      "/home/rp693/ANARCI/Example_scripts_and_sequences/ImmunoPDB.py:11: SyntaxWarning: invalid escape sequence '\\ '\n",
      "  description='''\n",
      "/home/rp693/miniconda3/lib/python3.12/site-packages/Bio/PDB/Entity.py:197: BiopythonWarning: The id `(' ', 0, ' ')` is already used for a sibling of this entity. Changing id from `(' ', 3, ' ')` to `(' ', 0, ' ')` might create access inconsistencies to children of the parent entity.\n",
      "  warnings.warn(\n",
      "/home/rp693/miniconda3/lib/python3.12/site-packages/Bio/PDB/Entity.py:197: BiopythonWarning: The id `(' ', 0, ' ')` is already used for a sibling of this entity. Changing id from `(' ', 4, ' ')` to `(' ', 0, ' ')` might create access inconsistencies to children of the parent entity.\n",
      "  warnings.warn(\n",
      "/home/rp693/miniconda3/lib/python3.12/site-packages/Bio/PDB/Entity.py:197: BiopythonWarning: The id `(' ', 0, ' ')` is already used for a sibling of this entity. Changing id from `(' ', 5, ' ')` to `(' ', 0, ' ')` might create access inconsistencies to children of the parent entity.\n",
      "  warnings.warn(\n",
      "/home/rp693/miniconda3/lib/python3.12/site-packages/Bio/PDB/Entity.py:197: BiopythonWarning: The id `(' ', 0, ' ')` is already used for a sibling of this entity. Changing id from `(' ', 6, ' ')` to `(' ', 0, ' ')` might create access inconsistencies to children of the parent entity.\n",
      "  warnings.warn(\n",
      "/home/rp693/miniconda3/lib/python3.12/site-packages/Bio/PDB/Entity.py:197: BiopythonWarning: The id `(' ', 0, ' ')` is already used for a sibling of this entity. Changing id from `(' ', 7, ' ')` to `(' ', 0, ' ')` might create access inconsistencies to children of the parent entity.\n",
      "  warnings.warn(\n",
      "/home/rp693/miniconda3/lib/python3.12/site-packages/Bio/PDB/Entity.py:197: BiopythonWarning: The id `(' ', 0, ' ')` is already used for a sibling of this entity. Changing id from `(' ', 8, ' ')` to `(' ', 0, ' ')` might create access inconsistencies to children of the parent entity.\n",
      "  warnings.warn(\n",
      "/home/rp693/miniconda3/lib/python3.12/site-packages/Bio/PDB/Entity.py:197: BiopythonWarning: The id `(' ', 0, ' ')` is already used for a sibling of this entity. Changing id from `(' ', 9, ' ')` to `(' ', 0, ' ')` might create access inconsistencies to children of the parent entity.\n",
      "  warnings.warn(\n",
      "/home/rp693/miniconda3/lib/python3.12/site-packages/Bio/PDB/Entity.py:197: BiopythonWarning: The id `(' ', 0, ' ')` is already used for a sibling of this entity. Changing id from `(' ', 10, ' ')` to `(' ', 0, ' ')` might create access inconsistencies to children of the parent entity.\n",
      "  warnings.warn(\n",
      "/home/rp693/miniconda3/lib/python3.12/site-packages/Bio/PDB/Entity.py:197: BiopythonWarning: The id `(' ', 0, ' ')` is already used for a sibling of this entity. Changing id from `(' ', 11, ' ')` to `(' ', 0, ' ')` might create access inconsistencies to children of the parent entity.\n",
      "  warnings.warn(\n",
      "/home/rp693/miniconda3/lib/python3.12/site-packages/Bio/PDB/Entity.py:197: BiopythonWarning: The id `(' ', 0, ' ')` is already used for a sibling of this entity. Changing id from `(' ', 12, ' ')` to `(' ', 0, ' ')` might create access inconsistencies to children of the parent entity.\n",
      "  warnings.warn(\n",
      "/home/rp693/miniconda3/lib/python3.12/site-packages/Bio/PDB/Entity.py:197: BiopythonWarning: The id `(' ', 0, ' ')` is already used for a sibling of this entity. Changing id from `(' ', 13, ' ')` to `(' ', 0, ' ')` might create access inconsistencies to children of the parent entity.\n",
      "  warnings.warn(\n",
      "/home/rp693/miniconda3/lib/python3.12/site-packages/Bio/PDB/Entity.py:197: BiopythonWarning: The id `(' ', 0, ' ')` is already used for a sibling of this entity. Changing id from `(' ', 14, ' ')` to `(' ', 0, ' ')` might create access inconsistencies to children of the parent entity.\n",
      "  warnings.warn(\n",
      "/home/rp693/miniconda3/lib/python3.12/site-packages/Bio/PDB/Entity.py:197: BiopythonWarning: The id `(' ', 0, ' ')` is already used for a sibling of this entity. Changing id from `(' ', 15, ' ')` to `(' ', 0, ' ')` might create access inconsistencies to children of the parent entity.\n",
      "  warnings.warn(\n",
      "/home/rp693/miniconda3/lib/python3.12/site-packages/Bio/PDB/Entity.py:197: BiopythonWarning: The id `(' ', 0, ' ')` is already used for a sibling of this entity. Changing id from `(' ', 16, ' ')` to `(' ', 0, ' ')` might create access inconsistencies to children of the parent entity.\n",
      "  warnings.warn(\n",
      "/home/rp693/miniconda3/lib/python3.12/site-packages/Bio/PDB/Entity.py:197: BiopythonWarning: The id `(' ', 0, ' ')` is already used for a sibling of this entity. Changing id from `(' ', 17, ' ')` to `(' ', 0, ' ')` might create access inconsistencies to children of the parent entity.\n",
      "  warnings.warn(\n",
      "/home/rp693/miniconda3/lib/python3.12/site-packages/Bio/PDB/Entity.py:197: BiopythonWarning: The id `(' ', 0, ' ')` is already used for a sibling of this entity. Changing id from `(' ', 18, ' ')` to `(' ', 0, ' ')` might create access inconsistencies to children of the parent entity.\n",
      "  warnings.warn(\n",
      "/home/rp693/miniconda3/lib/python3.12/site-packages/Bio/PDB/Entity.py:197: BiopythonWarning: The id `(' ', 0, ' ')` is already used for a sibling of this entity. Changing id from `(' ', 19, ' ')` to `(' ', 0, ' ')` might create access inconsistencies to children of the parent entity.\n",
      "  warnings.warn(\n",
      "/home/rp693/miniconda3/lib/python3.12/site-packages/Bio/PDB/Entity.py:197: BiopythonWarning: The id `(' ', 0, ' ')` is already used for a sibling of this entity. Changing id from `(' ', 20, ' ')` to `(' ', 0, ' ')` might create access inconsistencies to children of the parent entity.\n",
      "  warnings.warn(\n",
      "/home/rp693/miniconda3/lib/python3.12/site-packages/Bio/PDB/Entity.py:197: BiopythonWarning: The id `(' ', 0, ' ')` is already used for a sibling of this entity. Changing id from `(' ', 21, ' ')` to `(' ', 0, ' ')` might create access inconsistencies to children of the parent entity.\n",
      "  warnings.warn(\n",
      "/home/rp693/miniconda3/lib/python3.12/site-packages/Bio/PDB/Entity.py:197: BiopythonWarning: The id `(' ', 0, ' ')` is already used for a sibling of this entity. Changing id from `(' ', 22, ' ')` to `(' ', 0, ' ')` might create access inconsistencies to children of the parent entity.\n",
      "  warnings.warn(\n",
      "/home/rp693/miniconda3/lib/python3.12/site-packages/Bio/PDB/Entity.py:197: BiopythonWarning: The id `(' ', 0, ' ')` is already used for a sibling of this entity. Changing id from `(' ', 23, ' ')` to `(' ', 0, ' ')` might create access inconsistencies to children of the parent entity.\n",
      "  warnings.warn(\n",
      "/home/rp693/miniconda3/lib/python3.12/site-packages/Bio/PDB/Entity.py:197: BiopythonWarning: The id `(' ', 0, ' ')` is already used for a sibling of this entity. Changing id from `(' ', 24, ' ')` to `(' ', 0, ' ')` might create access inconsistencies to children of the parent entity.\n",
      "  warnings.warn(\n",
      "/home/rp693/miniconda3/lib/python3.12/site-packages/Bio/PDB/Entity.py:197: BiopythonWarning: The id `(' ', 0, ' ')` is already used for a sibling of this entity. Changing id from `(' ', 25, ' ')` to `(' ', 0, ' ')` might create access inconsistencies to children of the parent entity.\n",
      "  warnings.warn(\n",
      "/home/rp693/miniconda3/lib/python3.12/site-packages/Bio/PDB/Entity.py:197: BiopythonWarning: The id `(' ', 0, ' ')` is already used for a sibling of this entity. Changing id from `(' ', 26, ' ')` to `(' ', 0, ' ')` might create access inconsistencies to children of the parent entity.\n",
      "  warnings.warn(\n",
      "/home/rp693/miniconda3/lib/python3.12/site-packages/Bio/PDB/Entity.py:197: BiopythonWarning: The id `(' ', 0, ' ')` is already used for a sibling of this entity. Changing id from `(' ', 27, ' ')` to `(' ', 0, ' ')` might create access inconsistencies to children of the parent entity.\n",
      "  warnings.warn(\n",
      "/home/rp693/miniconda3/lib/python3.12/site-packages/Bio/PDB/Entity.py:197: BiopythonWarning: The id `(' ', 0, ' ')` is already used for a sibling of this entity. Changing id from `(' ', 28, ' ')` to `(' ', 0, ' ')` might create access inconsistencies to children of the parent entity.\n",
      "  warnings.warn(\n",
      "/home/rp693/miniconda3/lib/python3.12/site-packages/Bio/PDB/Entity.py:197: BiopythonWarning: The id `(' ', 0, ' ')` is already used for a sibling of this entity. Changing id from `(' ', 29, ' ')` to `(' ', 0, ' ')` might create access inconsistencies to children of the parent entity.\n",
      "  warnings.warn(\n",
      "/home/rp693/miniconda3/lib/python3.12/site-packages/Bio/PDB/Entity.py:197: BiopythonWarning: The id `(' ', 0, ' ')` is already used for a sibling of this entity. Changing id from `(' ', 30, ' ')` to `(' ', 0, ' ')` might create access inconsistencies to children of the parent entity.\n",
      "  warnings.warn(\n",
      "/home/rp693/miniconda3/lib/python3.12/site-packages/Bio/PDB/Entity.py:197: BiopythonWarning: The id `(' ', 0, ' ')` is already used for a sibling of this entity. Changing id from `(' ', 31, ' ')` to `(' ', 0, ' ')` might create access inconsistencies to children of the parent entity.\n",
      "  warnings.warn(\n",
      "/home/rp693/miniconda3/lib/python3.12/site-packages/Bio/PDB/Entity.py:197: BiopythonWarning: The id `(' ', 0, ' ')` is already used for a sibling of this entity. Changing id from `(' ', 32, ' ')` to `(' ', 0, ' ')` might create access inconsistencies to children of the parent entity.\n",
      "  warnings.warn(\n",
      "/home/rp693/miniconda3/lib/python3.12/site-packages/Bio/PDB/Entity.py:197: BiopythonWarning: The id `(' ', 0, ' ')` is already used for a sibling of this entity. Changing id from `(' ', 33, ' ')` to `(' ', 0, ' ')` might create access inconsistencies to children of the parent entity.\n",
      "  warnings.warn(\n",
      "/home/rp693/miniconda3/lib/python3.12/site-packages/Bio/PDB/Entity.py:197: BiopythonWarning: The id `(' ', 0, ' ')` is already used for a sibling of this entity. Changing id from `(' ', 34, ' ')` to `(' ', 0, ' ')` might create access inconsistencies to children of the parent entity.\n",
      "  warnings.warn(\n",
      "/home/rp693/miniconda3/lib/python3.12/site-packages/Bio/PDB/Entity.py:197: BiopythonWarning: The id `(' ', 0, ' ')` is already used for a sibling of this entity. Changing id from `(' ', 35, ' ')` to `(' ', 0, ' ')` might create access inconsistencies to children of the parent entity.\n",
      "  warnings.warn(\n",
      "/home/rp693/miniconda3/lib/python3.12/site-packages/Bio/PDB/Entity.py:197: BiopythonWarning: The id `(' ', 0, ' ')` is already used for a sibling of this entity. Changing id from `(' ', 36, ' ')` to `(' ', 0, ' ')` might create access inconsistencies to children of the parent entity.\n",
      "  warnings.warn(\n",
      "/home/rp693/miniconda3/lib/python3.12/site-packages/Bio/PDB/Entity.py:197: BiopythonWarning: The id `(' ', 0, ' ')` is already used for a sibling of this entity. Changing id from `(' ', 37, ' ')` to `(' ', 0, ' ')` might create access inconsistencies to children of the parent entity.\n",
      "  warnings.warn(\n",
      "/home/rp693/miniconda3/lib/python3.12/site-packages/Bio/PDB/Entity.py:197: BiopythonWarning: The id `(' ', 0, ' ')` is already used for a sibling of this entity. Changing id from `(' ', 38, ' ')` to `(' ', 0, ' ')` might create access inconsistencies to children of the parent entity.\n",
      "  warnings.warn(\n",
      "/home/rp693/miniconda3/lib/python3.12/site-packages/Bio/PDB/Entity.py:197: BiopythonWarning: The id `(' ', 0, ' ')` is already used for a sibling of this entity. Changing id from `(' ', 39, ' ')` to `(' ', 0, ' ')` might create access inconsistencies to children of the parent entity.\n",
      "  warnings.warn(\n",
      "/home/rp693/miniconda3/lib/python3.12/site-packages/Bio/PDB/Entity.py:197: BiopythonWarning: The id `(' ', 0, ' ')` is already used for a sibling of this entity. Changing id from `(' ', 40, ' ')` to `(' ', 0, ' ')` might create access inconsistencies to children of the parent entity.\n",
      "  warnings.warn(\n",
      "/home/rp693/miniconda3/lib/python3.12/site-packages/Bio/PDB/Entity.py:197: BiopythonWarning: The id `(' ', 0, ' ')` is already used for a sibling of this entity. Changing id from `(' ', 41, ' ')` to `(' ', 0, ' ')` might create access inconsistencies to children of the parent entity.\n",
      "  warnings.warn(\n",
      "/home/rp693/miniconda3/lib/python3.12/site-packages/Bio/PDB/Entity.py:197: BiopythonWarning: The id `(' ', 0, ' ')` is already used for a sibling of this entity. Changing id from `(' ', 42, ' ')` to `(' ', 0, ' ')` might create access inconsistencies to children of the parent entity.\n",
      "  warnings.warn(\n",
      "/home/rp693/miniconda3/lib/python3.12/site-packages/Bio/PDB/Entity.py:197: BiopythonWarning: The id `(' ', 0, ' ')` is already used for a sibling of this entity. Changing id from `(' ', 43, ' ')` to `(' ', 0, ' ')` might create access inconsistencies to children of the parent entity.\n",
      "  warnings.warn(\n",
      "/home/rp693/miniconda3/lib/python3.12/site-packages/Bio/PDB/Entity.py:197: BiopythonWarning: The id `(' ', 0, ' ')` is already used for a sibling of this entity. Changing id from `(' ', 44, ' ')` to `(' ', 0, ' ')` might create access inconsistencies to children of the parent entity.\n",
      "  warnings.warn(\n",
      "/home/rp693/miniconda3/lib/python3.12/site-packages/Bio/PDB/Entity.py:197: BiopythonWarning: The id `(' ', 0, ' ')` is already used for a sibling of this entity. Changing id from `(' ', 45, ' ')` to `(' ', 0, ' ')` might create access inconsistencies to children of the parent entity.\n",
      "  warnings.warn(\n",
      "/home/rp693/miniconda3/lib/python3.12/site-packages/Bio/PDB/Entity.py:197: BiopythonWarning: The id `(' ', 0, ' ')` is already used for a sibling of this entity. Changing id from `(' ', 46, ' ')` to `(' ', 0, ' ')` might create access inconsistencies to children of the parent entity.\n",
      "  warnings.warn(\n",
      "/home/rp693/miniconda3/lib/python3.12/site-packages/Bio/PDB/Entity.py:197: BiopythonWarning: The id `(' ', 0, ' ')` is already used for a sibling of this entity. Changing id from `(' ', 47, ' ')` to `(' ', 0, ' ')` might create access inconsistencies to children of the parent entity.\n",
      "  warnings.warn(\n",
      "/home/rp693/miniconda3/lib/python3.12/site-packages/Bio/PDB/Entity.py:197: BiopythonWarning: The id `(' ', 0, ' ')` is already used for a sibling of this entity. Changing id from `(' ', 48, ' ')` to `(' ', 0, ' ')` might create access inconsistencies to children of the parent entity.\n",
      "  warnings.warn(\n",
      "/home/rp693/miniconda3/lib/python3.12/site-packages/Bio/PDB/Entity.py:197: BiopythonWarning: The id `(' ', 0, ' ')` is already used for a sibling of this entity. Changing id from `(' ', 49, ' ')` to `(' ', 0, ' ')` might create access inconsistencies to children of the parent entity.\n",
      "  warnings.warn(\n",
      "/home/rp693/miniconda3/lib/python3.12/site-packages/Bio/PDB/Entity.py:197: BiopythonWarning: The id `(' ', 0, ' ')` is already used for a sibling of this entity. Changing id from `(' ', 50, ' ')` to `(' ', 0, ' ')` might create access inconsistencies to children of the parent entity.\n",
      "  warnings.warn(\n"
     ]
    },
    {
     "name": "stdout",
     "output_type": "stream",
     "text": [
      "Downloading PDB structure '6uyd'...\n"
     ]
    },
    {
     "name": "stderr",
     "output_type": "stream",
     "text": [
      "/home/rp693/ANARCI/Example_scripts_and_sequences/ImmunoPDB.py:11: SyntaxWarning: invalid escape sequence '\\ '\n",
      "  description='''\n"
     ]
    },
    {
     "name": "stdout",
     "output_type": "stream",
     "text": [
      "Downloading PDB structure '6uyf'...\n"
     ]
    },
    {
     "name": "stderr",
     "output_type": "stream",
     "text": [
      "/home/rp693/ANARCI/Example_scripts_and_sequences/ImmunoPDB.py:11: SyntaxWarning: invalid escape sequence '\\ '\n",
      "  description='''\n"
     ]
    },
    {
     "name": "stdout",
     "output_type": "stream",
     "text": [
      "Downloading PDB structure '6uyg'...\n"
     ]
    },
    {
     "name": "stderr",
     "output_type": "stream",
     "text": [
      "/home/rp693/ANARCI/Example_scripts_and_sequences/ImmunoPDB.py:11: SyntaxWarning: invalid escape sequence '\\ '\n",
      "  description='''\n"
     ]
    },
    {
     "name": "stdout",
     "output_type": "stream",
     "text": [
      "Structure exists: 'pdb_files/pdb6uyg.ent' \n"
     ]
    },
    {
     "name": "stderr",
     "output_type": "stream",
     "text": [
      "/home/rp693/ANARCI/Example_scripts_and_sequences/ImmunoPDB.py:11: SyntaxWarning: invalid escape sequence '\\ '\n",
      "  description='''\n"
     ]
    },
    {
     "name": "stdout",
     "output_type": "stream",
     "text": [
      "Downloading PDB structure '6uym'...\n"
     ]
    },
    {
     "name": "stderr",
     "output_type": "stream",
     "text": [
      "/home/rp693/ANARCI/Example_scripts_and_sequences/ImmunoPDB.py:11: SyntaxWarning: invalid escape sequence '\\ '\n",
      "  description='''\n"
     ]
    },
    {
     "name": "stdout",
     "output_type": "stream",
     "text": [
      "Downloading PDB structure '6wo3'...\n"
     ]
    },
    {
     "name": "stderr",
     "output_type": "stream",
     "text": [
      "/home/rp693/ANARCI/Example_scripts_and_sequences/ImmunoPDB.py:11: SyntaxWarning: invalid escape sequence '\\ '\n",
      "  description='''\n",
      "/home/rp693/miniconda3/lib/python3.12/site-packages/Bio/PDB/Entity.py:197: BiopythonWarning: The id `(' ', 76, ' ')` is already used for a sibling of this entity. Changing id from `(' ', 74, ' ')` to `(' ', 76, ' ')` might create access inconsistencies to children of the parent entity.\n",
      "  warnings.warn(\n",
      "/home/rp693/miniconda3/lib/python3.12/site-packages/Bio/PDB/Entity.py:197: BiopythonWarning: The id `(' ', 77, ' ')` is already used for a sibling of this entity. Changing id from `(' ', 75, ' ')` to `(' ', 77, ' ')` might create access inconsistencies to children of the parent entity.\n",
      "  warnings.warn(\n",
      "/home/rp693/miniconda3/lib/python3.12/site-packages/Bio/PDB/Entity.py:197: BiopythonWarning: The id `(' ', 78, ' ')` is already used for a sibling of this entity. Changing id from `(' ', 76, ' ')` to `(' ', 78, ' ')` might create access inconsistencies to children of the parent entity.\n",
      "  warnings.warn(\n",
      "/home/rp693/miniconda3/lib/python3.12/site-packages/Bio/PDB/Entity.py:197: BiopythonWarning: The id `(' ', 79, ' ')` is already used for a sibling of this entity. Changing id from `(' ', 77, ' ')` to `(' ', 79, ' ')` might create access inconsistencies to children of the parent entity.\n",
      "  warnings.warn(\n",
      "/home/rp693/miniconda3/lib/python3.12/site-packages/Bio/PDB/Entity.py:197: BiopythonWarning: The id `(' ', 80, ' ')` is already used for a sibling of this entity. Changing id from `(' ', 78, ' ')` to `(' ', 80, ' ')` might create access inconsistencies to children of the parent entity.\n",
      "  warnings.warn(\n",
      "/home/rp693/miniconda3/lib/python3.12/site-packages/Bio/PDB/Entity.py:197: BiopythonWarning: The id `(' ', 81, ' ')` is already used for a sibling of this entity. Changing id from `(' ', 79, ' ')` to `(' ', 81, ' ')` might create access inconsistencies to children of the parent entity.\n",
      "  warnings.warn(\n",
      "/home/rp693/miniconda3/lib/python3.12/site-packages/Bio/PDB/Entity.py:197: BiopythonWarning: The id `(' ', 82, ' ')` is already used for a sibling of this entity. Changing id from `(' ', 80, ' ')` to `(' ', 82, ' ')` might create access inconsistencies to children of the parent entity.\n",
      "  warnings.warn(\n",
      "/home/rp693/miniconda3/lib/python3.12/site-packages/Bio/PDB/Entity.py:197: BiopythonWarning: The id `(' ', 82, 'A')` is already used for a sibling of this entity. Changing id from `(' ', 81, ' ')` to `(' ', 82, 'A')` might create access inconsistencies to children of the parent entity.\n",
      "  warnings.warn(\n"
     ]
    },
    {
     "name": "stdout",
     "output_type": "stream",
     "text": [
      "Downloading PDB structure '6wo4'...\n"
     ]
    },
    {
     "name": "stderr",
     "output_type": "stream",
     "text": [
      "/home/rp693/ANARCI/Example_scripts_and_sequences/ImmunoPDB.py:11: SyntaxWarning: invalid escape sequence '\\ '\n",
      "  description='''\n"
     ]
    },
    {
     "name": "stdout",
     "output_type": "stream",
     "text": [
      "Downloading PDB structure '6wo5'...\n"
     ]
    },
    {
     "name": "stderr",
     "output_type": "stream",
     "text": [
      "/home/rp693/ANARCI/Example_scripts_and_sequences/ImmunoPDB.py:11: SyntaxWarning: invalid escape sequence '\\ '\n",
      "  description='''\n"
     ]
    },
    {
     "name": "stdout",
     "output_type": "stream",
     "text": [
      "Structure exists: 'pdb_files/pdb6wo5.ent' \n"
     ]
    },
    {
     "name": "stderr",
     "output_type": "stream",
     "text": [
      "/home/rp693/ANARCI/Example_scripts_and_sequences/ImmunoPDB.py:11: SyntaxWarning: invalid escape sequence '\\ '\n",
      "  description='''\n"
     ]
    },
    {
     "name": "stdout",
     "output_type": "stream",
     "text": [
      "Downloading PDB structure '6woq'...\n"
     ]
    },
    {
     "name": "stderr",
     "output_type": "stream",
     "text": [
      "/home/rp693/ANARCI/Example_scripts_and_sequences/ImmunoPDB.py:11: SyntaxWarning: invalid escape sequence '\\ '\n",
      "  description='''\n"
     ]
    },
    {
     "name": "stdout",
     "output_type": "stream",
     "text": [
      "Structure exists: 'pdb_files/pdb6woq.ent' \n"
     ]
    },
    {
     "name": "stderr",
     "output_type": "stream",
     "text": [
      "/home/rp693/ANARCI/Example_scripts_and_sequences/ImmunoPDB.py:11: SyntaxWarning: invalid escape sequence '\\ '\n",
      "  description='''\n"
     ]
    },
    {
     "name": "stdout",
     "output_type": "stream",
     "text": [
      "Downloading PDB structure '7jtf'...\n"
     ]
    },
    {
     "name": "stderr",
     "output_type": "stream",
     "text": [
      "/home/rp693/ANARCI/Example_scripts_and_sequences/ImmunoPDB.py:11: SyntaxWarning: invalid escape sequence '\\ '\n",
      "  description='''\n"
     ]
    },
    {
     "name": "stdout",
     "output_type": "stream",
     "text": [
      "Downloading PDB structure '7jtg'...\n"
     ]
    },
    {
     "name": "stderr",
     "output_type": "stream",
     "text": [
      "/home/rp693/ANARCI/Example_scripts_and_sequences/ImmunoPDB.py:11: SyntaxWarning: invalid escape sequence '\\ '\n",
      "  description='''\n"
     ]
    },
    {
     "name": "stdout",
     "output_type": "stream",
     "text": [
      "Downloading PDB structure '7mww'...\n"
     ]
    },
    {
     "name": "stderr",
     "output_type": "stream",
     "text": [
      "/home/rp693/ANARCI/Example_scripts_and_sequences/ImmunoPDB.py:11: SyntaxWarning: invalid escape sequence '\\ '\n",
      "  description='''\n"
     ]
    },
    {
     "name": "stdout",
     "output_type": "stream",
     "text": [
      "Downloading PDB structure '7mwx'...\n"
     ]
    },
    {
     "name": "stderr",
     "output_type": "stream",
     "text": [
      "/home/rp693/ANARCI/Example_scripts_and_sequences/ImmunoPDB.py:11: SyntaxWarning: invalid escape sequence '\\ '\n",
      "  description='''\n"
     ]
    },
    {
     "name": "stdout",
     "output_type": "stream",
     "text": [
      "Downloading PDB structure '7rfb'...\n"
     ]
    },
    {
     "name": "stderr",
     "output_type": "stream",
     "text": [
      "/home/rp693/ANARCI/Example_scripts_and_sequences/ImmunoPDB.py:11: SyntaxWarning: invalid escape sequence '\\ '\n",
      "  description='''\n",
      "/home/rp693/miniconda3/lib/python3.12/site-packages/Bio/PDB/Entity.py:197: BiopythonWarning: The id `(' ', 32, ' ')` is already used for a sibling of this entity. Changing id from `(' ', 30, ' ')` to `(' ', 32, ' ')` might create access inconsistencies to children of the parent entity.\n",
      "  warnings.warn(\n",
      "/home/rp693/miniconda3/lib/python3.12/site-packages/Bio/PDB/Entity.py:197: BiopythonWarning: The id `(' ', 33, ' ')` is already used for a sibling of this entity. Changing id from `(' ', 31, ' ')` to `(' ', 33, ' ')` might create access inconsistencies to children of the parent entity.\n",
      "  warnings.warn(\n",
      "/home/rp693/miniconda3/lib/python3.12/site-packages/Bio/PDB/Entity.py:197: BiopythonWarning: The id `(' ', 28, ' ')` is already used for a sibling of this entity. Changing id from `(' ', 27, 'A')` to `(' ', 28, ' ')` might create access inconsistencies to children of the parent entity.\n",
      "  warnings.warn(\n",
      "/home/rp693/miniconda3/lib/python3.12/site-packages/Bio/PDB/Entity.py:197: BiopythonWarning: The id `(' ', 29, ' ')` is already used for a sibling of this entity. Changing id from `(' ', 27, 'B')` to `(' ', 29, ' ')` might create access inconsistencies to children of the parent entity.\n",
      "  warnings.warn(\n",
      "/home/rp693/miniconda3/lib/python3.12/site-packages/Bio/PDB/Entity.py:197: BiopythonWarning: The id `(' ', 30, ' ')` is already used for a sibling of this entity. Changing id from `(' ', 27, 'C')` to `(' ', 30, ' ')` might create access inconsistencies to children of the parent entity.\n",
      "  warnings.warn(\n"
     ]
    },
    {
     "name": "stdout",
     "output_type": "stream",
     "text": [
      "Downloading PDB structure '7rfc'...\n"
     ]
    },
    {
     "name": "stderr",
     "output_type": "stream",
     "text": [
      "/home/rp693/ANARCI/Example_scripts_and_sequences/ImmunoPDB.py:11: SyntaxWarning: invalid escape sequence '\\ '\n",
      "  description='''\n"
     ]
    },
    {
     "name": "stdout",
     "output_type": "stream",
     "text": [
      "Downloading PDB structure '7t6x'...\n"
     ]
    },
    {
     "name": "stderr",
     "output_type": "stream",
     "text": [
      "/home/rp693/ANARCI/Example_scripts_and_sequences/ImmunoPDB.py:11: SyntaxWarning: invalid escape sequence '\\ '\n",
      "  description='''\n",
      "/home/rp693/miniconda3/lib/python3.12/site-packages/Bio/PDB/Entity.py:197: BiopythonWarning: The id `(' ', 28, ' ')` is already used for a sibling of this entity. Changing id from `(' ', 27, 'A')` to `(' ', 28, ' ')` might create access inconsistencies to children of the parent entity.\n",
      "  warnings.warn(\n",
      "/home/rp693/miniconda3/lib/python3.12/site-packages/Bio/PDB/Entity.py:197: BiopythonWarning: The id `(' ', 29, ' ')` is already used for a sibling of this entity. Changing id from `(' ', 28, ' ')` to `(' ', 29, ' ')` might create access inconsistencies to children of the parent entity.\n",
      "  warnings.warn(\n",
      "/home/rp693/miniconda3/lib/python3.12/site-packages/Bio/PDB/Entity.py:197: BiopythonWarning: The id `(' ', 30, ' ')` is already used for a sibling of this entity. Changing id from `(' ', 29, ' ')` to `(' ', 30, ' ')` might create access inconsistencies to children of the parent entity.\n",
      "  warnings.warn(\n"
     ]
    },
    {
     "name": "stdout",
     "output_type": "stream",
     "text": [
      "Structure exists: 'pdb_files/pdb7t6x.ent' \n"
     ]
    },
    {
     "name": "stderr",
     "output_type": "stream",
     "text": [
      "/home/rp693/ANARCI/Example_scripts_and_sequences/ImmunoPDB.py:11: SyntaxWarning: invalid escape sequence '\\ '\n",
      "  description='''\n",
      "/home/rp693/miniconda3/lib/python3.12/site-packages/Bio/PDB/Entity.py:197: BiopythonWarning: The id `(' ', 38, ' ')` is already used for a sibling of this entity. Changing id from `(' ', 37, ' ')` to `(' ', 38, ' ')` might create access inconsistencies to children of the parent entity.\n",
      "  warnings.warn(\n",
      "/home/rp693/miniconda3/lib/python3.12/site-packages/Bio/PDB/Entity.py:197: BiopythonWarning: The id `(' ', 39, ' ')` is already used for a sibling of this entity. Changing id from `(' ', 38, ' ')` to `(' ', 39, ' ')` might create access inconsistencies to children of the parent entity.\n",
      "  warnings.warn(\n",
      "/home/rp693/miniconda3/lib/python3.12/site-packages/Bio/PDB/Entity.py:197: BiopythonWarning: The id `(' ', 40, ' ')` is already used for a sibling of this entity. Changing id from `(' ', 39, ' ')` to `(' ', 40, ' ')` might create access inconsistencies to children of the parent entity.\n",
      "  warnings.warn(\n",
      "/home/rp693/miniconda3/lib/python3.12/site-packages/Bio/PDB/Entity.py:197: BiopythonWarning: The id `(' ', 41, ' ')` is already used for a sibling of this entity. Changing id from `(' ', 40, ' ')` to `(' ', 41, ' ')` might create access inconsistencies to children of the parent entity.\n",
      "  warnings.warn(\n",
      "/home/rp693/miniconda3/lib/python3.12/site-packages/Bio/PDB/Entity.py:197: BiopythonWarning: The id `(' ', 42, ' ')` is already used for a sibling of this entity. Changing id from `(' ', 41, ' ')` to `(' ', 42, ' ')` might create access inconsistencies to children of the parent entity.\n",
      "  warnings.warn(\n",
      "/home/rp693/miniconda3/lib/python3.12/site-packages/Bio/PDB/Entity.py:197: BiopythonWarning: The id `(' ', 43, ' ')` is already used for a sibling of this entity. Changing id from `(' ', 42, ' ')` to `(' ', 43, ' ')` might create access inconsistencies to children of the parent entity.\n",
      "  warnings.warn(\n",
      "/home/rp693/miniconda3/lib/python3.12/site-packages/Bio/PDB/Entity.py:197: BiopythonWarning: The id `(' ', 44, ' ')` is already used for a sibling of this entity. Changing id from `(' ', 43, ' ')` to `(' ', 44, ' ')` might create access inconsistencies to children of the parent entity.\n",
      "  warnings.warn(\n",
      "/home/rp693/miniconda3/lib/python3.12/site-packages/Bio/PDB/Entity.py:197: BiopythonWarning: The id `(' ', 45, ' ')` is already used for a sibling of this entity. Changing id from `(' ', 44, ' ')` to `(' ', 45, ' ')` might create access inconsistencies to children of the parent entity.\n",
      "  warnings.warn(\n",
      "/home/rp693/miniconda3/lib/python3.12/site-packages/Bio/PDB/Entity.py:197: BiopythonWarning: The id `(' ', 46, ' ')` is already used for a sibling of this entity. Changing id from `(' ', 45, ' ')` to `(' ', 46, ' ')` might create access inconsistencies to children of the parent entity.\n",
      "  warnings.warn(\n",
      "/home/rp693/miniconda3/lib/python3.12/site-packages/Bio/PDB/Entity.py:197: BiopythonWarning: The id `(' ', 47, ' ')` is already used for a sibling of this entity. Changing id from `(' ', 46, ' ')` to `(' ', 47, ' ')` might create access inconsistencies to children of the parent entity.\n",
      "  warnings.warn(\n",
      "/home/rp693/miniconda3/lib/python3.12/site-packages/Bio/PDB/Entity.py:197: BiopythonWarning: The id `(' ', 48, ' ')` is already used for a sibling of this entity. Changing id from `(' ', 47, ' ')` to `(' ', 48, ' ')` might create access inconsistencies to children of the parent entity.\n",
      "  warnings.warn(\n",
      "/home/rp693/miniconda3/lib/python3.12/site-packages/Bio/PDB/Entity.py:197: BiopythonWarning: The id `(' ', 49, ' ')` is already used for a sibling of this entity. Changing id from `(' ', 48, ' ')` to `(' ', 49, ' ')` might create access inconsistencies to children of the parent entity.\n",
      "  warnings.warn(\n",
      "/home/rp693/miniconda3/lib/python3.12/site-packages/Bio/PDB/Entity.py:197: BiopythonWarning: The id `(' ', 50, ' ')` is already used for a sibling of this entity. Changing id from `(' ', 49, ' ')` to `(' ', 50, ' ')` might create access inconsistencies to children of the parent entity.\n",
      "  warnings.warn(\n"
     ]
    },
    {
     "name": "stdout",
     "output_type": "stream",
     "text": [
      "Limiting hmmer search to species ['human', 'mouse'] was requested but hits did not achieve a high enough bitscore. Reverting to using any species\n",
      "Downloading PDB structure '8fsj'...\n"
     ]
    },
    {
     "name": "stderr",
     "output_type": "stream",
     "text": [
      "/home/rp693/ANARCI/Example_scripts_and_sequences/ImmunoPDB.py:11: SyntaxWarning: invalid escape sequence '\\ '\n",
      "  description='''\n"
     ]
    },
    {
     "name": "stdout",
     "output_type": "stream",
     "text": [
      "Structure exists: 'pdb_files/pdb8fsj.ent' \n"
     ]
    },
    {
     "name": "stderr",
     "output_type": "stream",
     "text": [
      "/home/rp693/ANARCI/Example_scripts_and_sequences/ImmunoPDB.py:11: SyntaxWarning: invalid escape sequence '\\ '\n",
      "  description='''\n",
      "/home/rp693/miniconda3/lib/python3.12/site-packages/Bio/PDB/Entity.py:197: BiopythonWarning: The id `(' ', 28, ' ')` is already used for a sibling of this entity. Changing id from `(' ', 27, 'A')` to `(' ', 28, ' ')` might create access inconsistencies to children of the parent entity.\n",
      "  warnings.warn(\n",
      "/home/rp693/miniconda3/lib/python3.12/site-packages/Bio/PDB/Entity.py:197: BiopythonWarning: The id `(' ', 29, ' ')` is already used for a sibling of this entity. Changing id from `(' ', 28, ' ')` to `(' ', 29, ' ')` might create access inconsistencies to children of the parent entity.\n",
      "  warnings.warn(\n",
      "/home/rp693/miniconda3/lib/python3.12/site-packages/Bio/PDB/Entity.py:197: BiopythonWarning: The id `(' ', 30, ' ')` is already used for a sibling of this entity. Changing id from `(' ', 29, ' ')` to `(' ', 30, ' ')` might create access inconsistencies to children of the parent entity.\n",
      "  warnings.warn(\n"
     ]
    },
    {
     "name": "stdout",
     "output_type": "stream",
     "text": [
      "Downloading PDB structure '8tgv'...\n"
     ]
    },
    {
     "name": "stderr",
     "output_type": "stream",
     "text": [
      "/home/rp693/ANARCI/Example_scripts_and_sequences/ImmunoPDB.py:11: SyntaxWarning: invalid escape sequence '\\ '\n",
      "  description='''\n",
      "/home/rp693/miniconda3/lib/python3.12/site-packages/Bio/PDB/Entity.py:197: BiopythonWarning: The id `(' ', 11, ' ')` is already used for a sibling of this entity. Changing id from `(' ', 10, ' ')` to `(' ', 11, ' ')` might create access inconsistencies to children of the parent entity.\n",
      "  warnings.warn(\n",
      "/home/rp693/miniconda3/lib/python3.12/site-packages/Bio/PDB/Entity.py:197: BiopythonWarning: The id `(' ', 12, ' ')` is already used for a sibling of this entity. Changing id from `(' ', 11, ' ')` to `(' ', 12, ' ')` might create access inconsistencies to children of the parent entity.\n",
      "  warnings.warn(\n",
      "/home/rp693/miniconda3/lib/python3.12/site-packages/Bio/PDB/Entity.py:197: BiopythonWarning: The id `(' ', 13, ' ')` is already used for a sibling of this entity. Changing id from `(' ', 12, ' ')` to `(' ', 13, ' ')` might create access inconsistencies to children of the parent entity.\n",
      "  warnings.warn(\n",
      "/home/rp693/miniconda3/lib/python3.12/site-packages/Bio/PDB/Entity.py:197: BiopythonWarning: The id `(' ', 14, ' ')` is already used for a sibling of this entity. Changing id from `(' ', 13, ' ')` to `(' ', 14, ' ')` might create access inconsistencies to children of the parent entity.\n",
      "  warnings.warn(\n",
      "/home/rp693/miniconda3/lib/python3.12/site-packages/Bio/PDB/Entity.py:197: BiopythonWarning: The id `(' ', 15, ' ')` is already used for a sibling of this entity. Changing id from `(' ', 14, ' ')` to `(' ', 15, ' ')` might create access inconsistencies to children of the parent entity.\n",
      "  warnings.warn(\n",
      "/home/rp693/miniconda3/lib/python3.12/site-packages/Bio/PDB/Entity.py:197: BiopythonWarning: The id `(' ', 16, ' ')` is already used for a sibling of this entity. Changing id from `(' ', 15, ' ')` to `(' ', 16, ' ')` might create access inconsistencies to children of the parent entity.\n",
      "  warnings.warn(\n",
      "/home/rp693/miniconda3/lib/python3.12/site-packages/Bio/PDB/Entity.py:197: BiopythonWarning: The id `(' ', 17, ' ')` is already used for a sibling of this entity. Changing id from `(' ', 16, ' ')` to `(' ', 17, ' ')` might create access inconsistencies to children of the parent entity.\n",
      "  warnings.warn(\n",
      "/home/rp693/miniconda3/lib/python3.12/site-packages/Bio/PDB/Entity.py:197: BiopythonWarning: The id `(' ', 18, ' ')` is already used for a sibling of this entity. Changing id from `(' ', 17, ' ')` to `(' ', 18, ' ')` might create access inconsistencies to children of the parent entity.\n",
      "  warnings.warn(\n",
      "/home/rp693/miniconda3/lib/python3.12/site-packages/Bio/PDB/Entity.py:197: BiopythonWarning: The id `(' ', 19, ' ')` is already used for a sibling of this entity. Changing id from `(' ', 18, ' ')` to `(' ', 19, ' ')` might create access inconsistencies to children of the parent entity.\n",
      "  warnings.warn(\n",
      "/home/rp693/miniconda3/lib/python3.12/site-packages/Bio/PDB/Entity.py:197: BiopythonWarning: The id `(' ', 20, ' ')` is already used for a sibling of this entity. Changing id from `(' ', 19, ' ')` to `(' ', 20, ' ')` might create access inconsistencies to children of the parent entity.\n",
      "  warnings.warn(\n",
      "/home/rp693/miniconda3/lib/python3.12/site-packages/Bio/PDB/Entity.py:197: BiopythonWarning: The id `(' ', 21, ' ')` is already used for a sibling of this entity. Changing id from `(' ', 20, ' ')` to `(' ', 21, ' ')` might create access inconsistencies to children of the parent entity.\n",
      "  warnings.warn(\n",
      "/home/rp693/miniconda3/lib/python3.12/site-packages/Bio/PDB/Entity.py:197: BiopythonWarning: The id `(' ', 22, ' ')` is already used for a sibling of this entity. Changing id from `(' ', 21, ' ')` to `(' ', 22, ' ')` might create access inconsistencies to children of the parent entity.\n",
      "  warnings.warn(\n",
      "/home/rp693/miniconda3/lib/python3.12/site-packages/Bio/PDB/Entity.py:197: BiopythonWarning: The id `(' ', 23, ' ')` is already used for a sibling of this entity. Changing id from `(' ', 22, ' ')` to `(' ', 23, ' ')` might create access inconsistencies to children of the parent entity.\n",
      "  warnings.warn(\n",
      "/home/rp693/miniconda3/lib/python3.12/site-packages/Bio/PDB/Entity.py:197: BiopythonWarning: The id `(' ', 24, ' ')` is already used for a sibling of this entity. Changing id from `(' ', 23, ' ')` to `(' ', 24, ' ')` might create access inconsistencies to children of the parent entity.\n",
      "  warnings.warn(\n",
      "/home/rp693/miniconda3/lib/python3.12/site-packages/Bio/PDB/Entity.py:197: BiopythonWarning: The id `(' ', 25, ' ')` is already used for a sibling of this entity. Changing id from `(' ', 24, ' ')` to `(' ', 25, ' ')` might create access inconsistencies to children of the parent entity.\n",
      "  warnings.warn(\n",
      "/home/rp693/miniconda3/lib/python3.12/site-packages/Bio/PDB/Entity.py:197: BiopythonWarning: The id `(' ', 26, ' ')` is already used for a sibling of this entity. Changing id from `(' ', 25, ' ')` to `(' ', 26, ' ')` might create access inconsistencies to children of the parent entity.\n",
      "  warnings.warn(\n",
      "/home/rp693/miniconda3/lib/python3.12/site-packages/Bio/PDB/Entity.py:197: BiopythonWarning: The id `(' ', 27, ' ')` is already used for a sibling of this entity. Changing id from `(' ', 26, ' ')` to `(' ', 27, ' ')` might create access inconsistencies to children of the parent entity.\n",
      "  warnings.warn(\n",
      "/home/rp693/miniconda3/lib/python3.12/site-packages/Bio/PDB/Entity.py:197: BiopythonWarning: The id `(' ', 28, ' ')` is already used for a sibling of this entity. Changing id from `(' ', 27, ' ')` to `(' ', 28, ' ')` might create access inconsistencies to children of the parent entity.\n",
      "  warnings.warn(\n",
      "/home/rp693/miniconda3/lib/python3.12/site-packages/Bio/PDB/Entity.py:197: BiopythonWarning: The id `(' ', 29, ' ')` is already used for a sibling of this entity. Changing id from `(' ', 28, ' ')` to `(' ', 29, ' ')` might create access inconsistencies to children of the parent entity.\n",
      "  warnings.warn(\n",
      "/home/rp693/miniconda3/lib/python3.12/site-packages/Bio/PDB/Entity.py:197: BiopythonWarning: The id `(' ', 30, ' ')` is already used for a sibling of this entity. Changing id from `(' ', 29, ' ')` to `(' ', 30, ' ')` might create access inconsistencies to children of the parent entity.\n",
      "  warnings.warn(\n",
      "/home/rp693/miniconda3/lib/python3.12/site-packages/Bio/PDB/Entity.py:197: BiopythonWarning: The id `(' ', 31, ' ')` is already used for a sibling of this entity. Changing id from `(' ', 30, ' ')` to `(' ', 31, ' ')` might create access inconsistencies to children of the parent entity.\n",
      "  warnings.warn(\n",
      "/home/rp693/miniconda3/lib/python3.12/site-packages/Bio/PDB/Entity.py:197: BiopythonWarning: The id `(' ', 32, ' ')` is already used for a sibling of this entity. Changing id from `(' ', 31, ' ')` to `(' ', 32, ' ')` might create access inconsistencies to children of the parent entity.\n",
      "  warnings.warn(\n",
      "/home/rp693/miniconda3/lib/python3.12/site-packages/Bio/PDB/Entity.py:197: BiopythonWarning: The id `(' ', 33, ' ')` is already used for a sibling of this entity. Changing id from `(' ', 32, ' ')` to `(' ', 33, ' ')` might create access inconsistencies to children of the parent entity.\n",
      "  warnings.warn(\n",
      "/home/rp693/miniconda3/lib/python3.12/site-packages/Bio/PDB/Entity.py:197: BiopythonWarning: The id `(' ', 34, ' ')` is already used for a sibling of this entity. Changing id from `(' ', 33, ' ')` to `(' ', 34, ' ')` might create access inconsistencies to children of the parent entity.\n",
      "  warnings.warn(\n",
      "/home/rp693/miniconda3/lib/python3.12/site-packages/Bio/PDB/Entity.py:197: BiopythonWarning: The id `(' ', 35, ' ')` is already used for a sibling of this entity. Changing id from `(' ', 34, ' ')` to `(' ', 35, ' ')` might create access inconsistencies to children of the parent entity.\n",
      "  warnings.warn(\n",
      "/home/rp693/miniconda3/lib/python3.12/site-packages/Bio/PDB/Entity.py:197: BiopythonWarning: The id `(' ', 36, ' ')` is already used for a sibling of this entity. Changing id from `(' ', 35, ' ')` to `(' ', 36, ' ')` might create access inconsistencies to children of the parent entity.\n",
      "  warnings.warn(\n",
      "/home/rp693/miniconda3/lib/python3.12/site-packages/Bio/PDB/Entity.py:197: BiopythonWarning: The id `(' ', 37, ' ')` is already used for a sibling of this entity. Changing id from `(' ', 36, ' ')` to `(' ', 37, ' ')` might create access inconsistencies to children of the parent entity.\n",
      "  warnings.warn(\n",
      "/home/rp693/miniconda3/lib/python3.12/site-packages/Bio/PDB/Entity.py:197: BiopythonWarning: The id `(' ', 38, ' ')` is already used for a sibling of this entity. Changing id from `(' ', 37, ' ')` to `(' ', 38, ' ')` might create access inconsistencies to children of the parent entity.\n",
      "  warnings.warn(\n",
      "/home/rp693/miniconda3/lib/python3.12/site-packages/Bio/PDB/Entity.py:197: BiopythonWarning: The id `(' ', 39, ' ')` is already used for a sibling of this entity. Changing id from `(' ', 38, ' ')` to `(' ', 39, ' ')` might create access inconsistencies to children of the parent entity.\n",
      "  warnings.warn(\n",
      "/home/rp693/miniconda3/lib/python3.12/site-packages/Bio/PDB/Entity.py:197: BiopythonWarning: The id `(' ', 40, ' ')` is already used for a sibling of this entity. Changing id from `(' ', 39, ' ')` to `(' ', 40, ' ')` might create access inconsistencies to children of the parent entity.\n",
      "  warnings.warn(\n",
      "/home/rp693/miniconda3/lib/python3.12/site-packages/Bio/PDB/Entity.py:197: BiopythonWarning: The id `(' ', 41, ' ')` is already used for a sibling of this entity. Changing id from `(' ', 40, ' ')` to `(' ', 41, ' ')` might create access inconsistencies to children of the parent entity.\n",
      "  warnings.warn(\n",
      "/home/rp693/miniconda3/lib/python3.12/site-packages/Bio/PDB/Entity.py:197: BiopythonWarning: The id `(' ', 42, ' ')` is already used for a sibling of this entity. Changing id from `(' ', 41, ' ')` to `(' ', 42, ' ')` might create access inconsistencies to children of the parent entity.\n",
      "  warnings.warn(\n",
      "/home/rp693/miniconda3/lib/python3.12/site-packages/Bio/PDB/Entity.py:197: BiopythonWarning: The id `(' ', 43, ' ')` is already used for a sibling of this entity. Changing id from `(' ', 42, ' ')` to `(' ', 43, ' ')` might create access inconsistencies to children of the parent entity.\n",
      "  warnings.warn(\n",
      "/home/rp693/miniconda3/lib/python3.12/site-packages/Bio/PDB/Entity.py:197: BiopythonWarning: The id `(' ', 44, ' ')` is already used for a sibling of this entity. Changing id from `(' ', 43, ' ')` to `(' ', 44, ' ')` might create access inconsistencies to children of the parent entity.\n",
      "  warnings.warn(\n",
      "/home/rp693/miniconda3/lib/python3.12/site-packages/Bio/PDB/Entity.py:197: BiopythonWarning: The id `(' ', 45, ' ')` is already used for a sibling of this entity. Changing id from `(' ', 44, ' ')` to `(' ', 45, ' ')` might create access inconsistencies to children of the parent entity.\n",
      "  warnings.warn(\n",
      "/home/rp693/miniconda3/lib/python3.12/site-packages/Bio/PDB/Entity.py:197: BiopythonWarning: The id `(' ', 46, ' ')` is already used for a sibling of this entity. Changing id from `(' ', 45, ' ')` to `(' ', 46, ' ')` might create access inconsistencies to children of the parent entity.\n",
      "  warnings.warn(\n",
      "/home/rp693/miniconda3/lib/python3.12/site-packages/Bio/PDB/Entity.py:197: BiopythonWarning: The id `(' ', 47, ' ')` is already used for a sibling of this entity. Changing id from `(' ', 46, ' ')` to `(' ', 47, ' ')` might create access inconsistencies to children of the parent entity.\n",
      "  warnings.warn(\n",
      "/home/rp693/miniconda3/lib/python3.12/site-packages/Bio/PDB/Entity.py:197: BiopythonWarning: The id `(' ', 48, ' ')` is already used for a sibling of this entity. Changing id from `(' ', 47, ' ')` to `(' ', 48, ' ')` might create access inconsistencies to children of the parent entity.\n",
      "  warnings.warn(\n",
      "/home/rp693/miniconda3/lib/python3.12/site-packages/Bio/PDB/Entity.py:197: BiopythonWarning: The id `(' ', 49, ' ')` is already used for a sibling of this entity. Changing id from `(' ', 48, ' ')` to `(' ', 49, ' ')` might create access inconsistencies to children of the parent entity.\n",
      "  warnings.warn(\n",
      "/home/rp693/miniconda3/lib/python3.12/site-packages/Bio/PDB/Entity.py:197: BiopythonWarning: The id `(' ', 50, ' ')` is already used for a sibling of this entity. Changing id from `(' ', 49, ' ')` to `(' ', 50, ' ')` might create access inconsistencies to children of the parent entity.\n",
      "  warnings.warn(\n",
      "/home/rp693/miniconda3/lib/python3.12/site-packages/Bio/PDB/Entity.py:197: BiopythonWarning: The id `(' ', 51, ' ')` is already used for a sibling of this entity. Changing id from `(' ', 50, ' ')` to `(' ', 51, ' ')` might create access inconsistencies to children of the parent entity.\n",
      "  warnings.warn(\n",
      "/home/rp693/miniconda3/lib/python3.12/site-packages/Bio/PDB/Entity.py:197: BiopythonWarning: The id `(' ', 52, ' ')` is already used for a sibling of this entity. Changing id from `(' ', 51, ' ')` to `(' ', 52, ' ')` might create access inconsistencies to children of the parent entity.\n",
      "  warnings.warn(\n",
      "/home/rp693/miniconda3/lib/python3.12/site-packages/Bio/PDB/Entity.py:197: BiopythonWarning: The id `(' ', 53, ' ')` is already used for a sibling of this entity. Changing id from `(' ', 52, ' ')` to `(' ', 53, ' ')` might create access inconsistencies to children of the parent entity.\n",
      "  warnings.warn(\n",
      "/home/rp693/miniconda3/lib/python3.12/site-packages/Bio/PDB/Entity.py:197: BiopythonWarning: The id `(' ', 54, ' ')` is already used for a sibling of this entity. Changing id from `(' ', 53, ' ')` to `(' ', 54, ' ')` might create access inconsistencies to children of the parent entity.\n",
      "  warnings.warn(\n",
      "/home/rp693/miniconda3/lib/python3.12/site-packages/Bio/PDB/Entity.py:197: BiopythonWarning: The id `(' ', 55, ' ')` is already used for a sibling of this entity. Changing id from `(' ', 54, ' ')` to `(' ', 55, ' ')` might create access inconsistencies to children of the parent entity.\n",
      "  warnings.warn(\n",
      "/home/rp693/miniconda3/lib/python3.12/site-packages/Bio/PDB/Entity.py:197: BiopythonWarning: The id `(' ', 56, ' ')` is already used for a sibling of this entity. Changing id from `(' ', 55, ' ')` to `(' ', 56, ' ')` might create access inconsistencies to children of the parent entity.\n",
      "  warnings.warn(\n",
      "/home/rp693/miniconda3/lib/python3.12/site-packages/Bio/PDB/Entity.py:197: BiopythonWarning: The id `(' ', 57, ' ')` is already used for a sibling of this entity. Changing id from `(' ', 56, ' ')` to `(' ', 57, ' ')` might create access inconsistencies to children of the parent entity.\n",
      "  warnings.warn(\n",
      "/home/rp693/miniconda3/lib/python3.12/site-packages/Bio/PDB/Entity.py:197: BiopythonWarning: The id `(' ', 58, ' ')` is already used for a sibling of this entity. Changing id from `(' ', 57, ' ')` to `(' ', 58, ' ')` might create access inconsistencies to children of the parent entity.\n",
      "  warnings.warn(\n",
      "/home/rp693/miniconda3/lib/python3.12/site-packages/Bio/PDB/Entity.py:197: BiopythonWarning: The id `(' ', 59, ' ')` is already used for a sibling of this entity. Changing id from `(' ', 58, ' ')` to `(' ', 59, ' ')` might create access inconsistencies to children of the parent entity.\n",
      "  warnings.warn(\n",
      "/home/rp693/miniconda3/lib/python3.12/site-packages/Bio/PDB/Entity.py:197: BiopythonWarning: The id `(' ', 60, ' ')` is already used for a sibling of this entity. Changing id from `(' ', 59, ' ')` to `(' ', 60, ' ')` might create access inconsistencies to children of the parent entity.\n",
      "  warnings.warn(\n",
      "/home/rp693/miniconda3/lib/python3.12/site-packages/Bio/PDB/Entity.py:197: BiopythonWarning: The id `(' ', 61, ' ')` is already used for a sibling of this entity. Changing id from `(' ', 60, ' ')` to `(' ', 61, ' ')` might create access inconsistencies to children of the parent entity.\n",
      "  warnings.warn(\n",
      "/home/rp693/miniconda3/lib/python3.12/site-packages/Bio/PDB/Entity.py:197: BiopythonWarning: The id `(' ', 62, ' ')` is already used for a sibling of this entity. Changing id from `(' ', 61, ' ')` to `(' ', 62, ' ')` might create access inconsistencies to children of the parent entity.\n",
      "  warnings.warn(\n",
      "/home/rp693/miniconda3/lib/python3.12/site-packages/Bio/PDB/Entity.py:197: BiopythonWarning: The id `(' ', 63, ' ')` is already used for a sibling of this entity. Changing id from `(' ', 62, ' ')` to `(' ', 63, ' ')` might create access inconsistencies to children of the parent entity.\n",
      "  warnings.warn(\n",
      "/home/rp693/miniconda3/lib/python3.12/site-packages/Bio/PDB/Entity.py:197: BiopythonWarning: The id `(' ', 64, ' ')` is already used for a sibling of this entity. Changing id from `(' ', 63, ' ')` to `(' ', 64, ' ')` might create access inconsistencies to children of the parent entity.\n",
      "  warnings.warn(\n",
      "/home/rp693/miniconda3/lib/python3.12/site-packages/Bio/PDB/Entity.py:197: BiopythonWarning: The id `(' ', 65, ' ')` is already used for a sibling of this entity. Changing id from `(' ', 64, ' ')` to `(' ', 65, ' ')` might create access inconsistencies to children of the parent entity.\n",
      "  warnings.warn(\n",
      "/home/rp693/miniconda3/lib/python3.12/site-packages/Bio/PDB/Entity.py:197: BiopythonWarning: The id `(' ', 66, ' ')` is already used for a sibling of this entity. Changing id from `(' ', 65, ' ')` to `(' ', 66, ' ')` might create access inconsistencies to children of the parent entity.\n",
      "  warnings.warn(\n",
      "/home/rp693/miniconda3/lib/python3.12/site-packages/Bio/PDB/Entity.py:197: BiopythonWarning: The id `(' ', 67, ' ')` is already used for a sibling of this entity. Changing id from `(' ', 66, ' ')` to `(' ', 67, ' ')` might create access inconsistencies to children of the parent entity.\n",
      "  warnings.warn(\n",
      "/home/rp693/miniconda3/lib/python3.12/site-packages/Bio/PDB/Entity.py:197: BiopythonWarning: The id `(' ', 68, ' ')` is already used for a sibling of this entity. Changing id from `(' ', 67, ' ')` to `(' ', 68, ' ')` might create access inconsistencies to children of the parent entity.\n",
      "  warnings.warn(\n",
      "/home/rp693/miniconda3/lib/python3.12/site-packages/Bio/PDB/Entity.py:197: BiopythonWarning: The id `(' ', 69, ' ')` is already used for a sibling of this entity. Changing id from `(' ', 68, ' ')` to `(' ', 69, ' ')` might create access inconsistencies to children of the parent entity.\n",
      "  warnings.warn(\n",
      "/home/rp693/miniconda3/lib/python3.12/site-packages/Bio/PDB/Entity.py:197: BiopythonWarning: The id `(' ', 70, ' ')` is already used for a sibling of this entity. Changing id from `(' ', 69, ' ')` to `(' ', 70, ' ')` might create access inconsistencies to children of the parent entity.\n",
      "  warnings.warn(\n",
      "/home/rp693/miniconda3/lib/python3.12/site-packages/Bio/PDB/Entity.py:197: BiopythonWarning: The id `(' ', 71, ' ')` is already used for a sibling of this entity. Changing id from `(' ', 70, ' ')` to `(' ', 71, ' ')` might create access inconsistencies to children of the parent entity.\n",
      "  warnings.warn(\n",
      "/home/rp693/miniconda3/lib/python3.12/site-packages/Bio/PDB/Entity.py:197: BiopythonWarning: The id `(' ', 72, ' ')` is already used for a sibling of this entity. Changing id from `(' ', 71, ' ')` to `(' ', 72, ' ')` might create access inconsistencies to children of the parent entity.\n",
      "  warnings.warn(\n",
      "/home/rp693/miniconda3/lib/python3.12/site-packages/Bio/PDB/Entity.py:197: BiopythonWarning: The id `(' ', 73, ' ')` is already used for a sibling of this entity. Changing id from `(' ', 72, ' ')` to `(' ', 73, ' ')` might create access inconsistencies to children of the parent entity.\n",
      "  warnings.warn(\n",
      "/home/rp693/miniconda3/lib/python3.12/site-packages/Bio/PDB/Entity.py:197: BiopythonWarning: The id `(' ', 74, ' ')` is already used for a sibling of this entity. Changing id from `(' ', 73, ' ')` to `(' ', 74, ' ')` might create access inconsistencies to children of the parent entity.\n",
      "  warnings.warn(\n",
      "/home/rp693/miniconda3/lib/python3.12/site-packages/Bio/PDB/Entity.py:197: BiopythonWarning: The id `(' ', 75, ' ')` is already used for a sibling of this entity. Changing id from `(' ', 74, ' ')` to `(' ', 75, ' ')` might create access inconsistencies to children of the parent entity.\n",
      "  warnings.warn(\n",
      "/home/rp693/miniconda3/lib/python3.12/site-packages/Bio/PDB/Entity.py:197: BiopythonWarning: The id `(' ', 76, ' ')` is already used for a sibling of this entity. Changing id from `(' ', 75, ' ')` to `(' ', 76, ' ')` might create access inconsistencies to children of the parent entity.\n",
      "  warnings.warn(\n",
      "/home/rp693/miniconda3/lib/python3.12/site-packages/Bio/PDB/Entity.py:197: BiopythonWarning: The id `(' ', 77, ' ')` is already used for a sibling of this entity. Changing id from `(' ', 76, ' ')` to `(' ', 77, ' ')` might create access inconsistencies to children of the parent entity.\n",
      "  warnings.warn(\n",
      "/home/rp693/miniconda3/lib/python3.12/site-packages/Bio/PDB/Entity.py:197: BiopythonWarning: The id `(' ', 78, ' ')` is already used for a sibling of this entity. Changing id from `(' ', 77, ' ')` to `(' ', 78, ' ')` might create access inconsistencies to children of the parent entity.\n",
      "  warnings.warn(\n",
      "/home/rp693/miniconda3/lib/python3.12/site-packages/Bio/PDB/Entity.py:197: BiopythonWarning: The id `(' ', 79, ' ')` is already used for a sibling of this entity. Changing id from `(' ', 78, ' ')` to `(' ', 79, ' ')` might create access inconsistencies to children of the parent entity.\n",
      "  warnings.warn(\n",
      "/home/rp693/miniconda3/lib/python3.12/site-packages/Bio/PDB/Entity.py:197: BiopythonWarning: The id `(' ', 80, ' ')` is already used for a sibling of this entity. Changing id from `(' ', 79, ' ')` to `(' ', 80, ' ')` might create access inconsistencies to children of the parent entity.\n",
      "  warnings.warn(\n",
      "/home/rp693/miniconda3/lib/python3.12/site-packages/Bio/PDB/Entity.py:197: BiopythonWarning: The id `(' ', 81, ' ')` is already used for a sibling of this entity. Changing id from `(' ', 80, ' ')` to `(' ', 81, ' ')` might create access inconsistencies to children of the parent entity.\n",
      "  warnings.warn(\n",
      "/home/rp693/miniconda3/lib/python3.12/site-packages/Bio/PDB/Entity.py:197: BiopythonWarning: The id `(' ', 82, ' ')` is already used for a sibling of this entity. Changing id from `(' ', 81, ' ')` to `(' ', 82, ' ')` might create access inconsistencies to children of the parent entity.\n",
      "  warnings.warn(\n",
      "/home/rp693/miniconda3/lib/python3.12/site-packages/Bio/PDB/Entity.py:197: BiopythonWarning: The id `(' ', 83, ' ')` is already used for a sibling of this entity. Changing id from `(' ', 82, ' ')` to `(' ', 83, ' ')` might create access inconsistencies to children of the parent entity.\n",
      "  warnings.warn(\n",
      "/home/rp693/miniconda3/lib/python3.12/site-packages/Bio/PDB/Entity.py:197: BiopythonWarning: The id `(' ', 84, ' ')` is already used for a sibling of this entity. Changing id from `(' ', 83, ' ')` to `(' ', 84, ' ')` might create access inconsistencies to children of the parent entity.\n",
      "  warnings.warn(\n",
      "/home/rp693/miniconda3/lib/python3.12/site-packages/Bio/PDB/Entity.py:197: BiopythonWarning: The id `(' ', 85, ' ')` is already used for a sibling of this entity. Changing id from `(' ', 84, ' ')` to `(' ', 85, ' ')` might create access inconsistencies to children of the parent entity.\n",
      "  warnings.warn(\n",
      "/home/rp693/miniconda3/lib/python3.12/site-packages/Bio/PDB/Entity.py:197: BiopythonWarning: The id `(' ', 86, ' ')` is already used for a sibling of this entity. Changing id from `(' ', 85, ' ')` to `(' ', 86, ' ')` might create access inconsistencies to children of the parent entity.\n",
      "  warnings.warn(\n",
      "/home/rp693/miniconda3/lib/python3.12/site-packages/Bio/PDB/Entity.py:197: BiopythonWarning: The id `(' ', 87, ' ')` is already used for a sibling of this entity. Changing id from `(' ', 86, ' ')` to `(' ', 87, ' ')` might create access inconsistencies to children of the parent entity.\n",
      "  warnings.warn(\n",
      "/home/rp693/miniconda3/lib/python3.12/site-packages/Bio/PDB/Entity.py:197: BiopythonWarning: The id `(' ', 88, ' ')` is already used for a sibling of this entity. Changing id from `(' ', 87, ' ')` to `(' ', 88, ' ')` might create access inconsistencies to children of the parent entity.\n",
      "  warnings.warn(\n",
      "/home/rp693/miniconda3/lib/python3.12/site-packages/Bio/PDB/Entity.py:197: BiopythonWarning: The id `(' ', 89, ' ')` is already used for a sibling of this entity. Changing id from `(' ', 88, ' ')` to `(' ', 89, ' ')` might create access inconsistencies to children of the parent entity.\n",
      "  warnings.warn(\n",
      "/home/rp693/miniconda3/lib/python3.12/site-packages/Bio/PDB/Entity.py:197: BiopythonWarning: The id `(' ', 90, ' ')` is already used for a sibling of this entity. Changing id from `(' ', 89, ' ')` to `(' ', 90, ' ')` might create access inconsistencies to children of the parent entity.\n",
      "  warnings.warn(\n",
      "/home/rp693/miniconda3/lib/python3.12/site-packages/Bio/PDB/Entity.py:197: BiopythonWarning: The id `(' ', 91, ' ')` is already used for a sibling of this entity. Changing id from `(' ', 90, ' ')` to `(' ', 91, ' ')` might create access inconsistencies to children of the parent entity.\n",
      "  warnings.warn(\n",
      "/home/rp693/miniconda3/lib/python3.12/site-packages/Bio/PDB/Entity.py:197: BiopythonWarning: The id `(' ', 92, ' ')` is already used for a sibling of this entity. Changing id from `(' ', 91, ' ')` to `(' ', 92, ' ')` might create access inconsistencies to children of the parent entity.\n",
      "  warnings.warn(\n",
      "/home/rp693/miniconda3/lib/python3.12/site-packages/Bio/PDB/Entity.py:197: BiopythonWarning: The id `(' ', 93, ' ')` is already used for a sibling of this entity. Changing id from `(' ', 92, ' ')` to `(' ', 93, ' ')` might create access inconsistencies to children of the parent entity.\n",
      "  warnings.warn(\n",
      "/home/rp693/miniconda3/lib/python3.12/site-packages/Bio/PDB/Entity.py:197: BiopythonWarning: The id `(' ', 94, ' ')` is already used for a sibling of this entity. Changing id from `(' ', 93, ' ')` to `(' ', 94, ' ')` might create access inconsistencies to children of the parent entity.\n",
      "  warnings.warn(\n",
      "/home/rp693/miniconda3/lib/python3.12/site-packages/Bio/PDB/Entity.py:197: BiopythonWarning: The id `(' ', 95, ' ')` is already used for a sibling of this entity. Changing id from `(' ', 94, ' ')` to `(' ', 95, ' ')` might create access inconsistencies to children of the parent entity.\n",
      "  warnings.warn(\n",
      "/home/rp693/miniconda3/lib/python3.12/site-packages/Bio/PDB/Entity.py:197: BiopythonWarning: The id `(' ', 96, ' ')` is already used for a sibling of this entity. Changing id from `(' ', 95, ' ')` to `(' ', 96, ' ')` might create access inconsistencies to children of the parent entity.\n",
      "  warnings.warn(\n",
      "/home/rp693/miniconda3/lib/python3.12/site-packages/Bio/PDB/Entity.py:197: BiopythonWarning: The id `(' ', 97, ' ')` is already used for a sibling of this entity. Changing id from `(' ', 96, ' ')` to `(' ', 97, ' ')` might create access inconsistencies to children of the parent entity.\n",
      "  warnings.warn(\n",
      "/home/rp693/miniconda3/lib/python3.12/site-packages/Bio/PDB/Entity.py:197: BiopythonWarning: The id `(' ', 98, ' ')` is already used for a sibling of this entity. Changing id from `(' ', 97, ' ')` to `(' ', 98, ' ')` might create access inconsistencies to children of the parent entity.\n",
      "  warnings.warn(\n",
      "/home/rp693/miniconda3/lib/python3.12/site-packages/Bio/PDB/Entity.py:197: BiopythonWarning: The id `(' ', 99, ' ')` is already used for a sibling of this entity. Changing id from `(' ', 98, ' ')` to `(' ', 99, ' ')` might create access inconsistencies to children of the parent entity.\n",
      "  warnings.warn(\n",
      "/home/rp693/miniconda3/lib/python3.12/site-packages/Bio/PDB/Entity.py:197: BiopythonWarning: The id `(' ', 100, ' ')` is already used for a sibling of this entity. Changing id from `(' ', 99, ' ')` to `(' ', 100, ' ')` might create access inconsistencies to children of the parent entity.\n",
      "  warnings.warn(\n",
      "/home/rp693/miniconda3/lib/python3.12/site-packages/Bio/PDB/Entity.py:197: BiopythonWarning: The id `(' ', 101, ' ')` is already used for a sibling of this entity. Changing id from `(' ', 100, ' ')` to `(' ', 101, ' ')` might create access inconsistencies to children of the parent entity.\n",
      "  warnings.warn(\n",
      "/home/rp693/miniconda3/lib/python3.12/site-packages/Bio/PDB/Entity.py:197: BiopythonWarning: The id `(' ', 102, ' ')` is already used for a sibling of this entity. Changing id from `(' ', 101, ' ')` to `(' ', 102, ' ')` might create access inconsistencies to children of the parent entity.\n",
      "  warnings.warn(\n",
      "/home/rp693/miniconda3/lib/python3.12/site-packages/Bio/PDB/Entity.py:197: BiopythonWarning: The id `(' ', 103, ' ')` is already used for a sibling of this entity. Changing id from `(' ', 102, ' ')` to `(' ', 103, ' ')` might create access inconsistencies to children of the parent entity.\n",
      "  warnings.warn(\n",
      "/home/rp693/miniconda3/lib/python3.12/site-packages/Bio/PDB/Entity.py:197: BiopythonWarning: The id `(' ', 104, ' ')` is already used for a sibling of this entity. Changing id from `(' ', 103, ' ')` to `(' ', 104, ' ')` might create access inconsistencies to children of the parent entity.\n",
      "  warnings.warn(\n",
      "/home/rp693/miniconda3/lib/python3.12/site-packages/Bio/PDB/Entity.py:197: BiopythonWarning: The id `(' ', 105, ' ')` is already used for a sibling of this entity. Changing id from `(' ', 104, ' ')` to `(' ', 105, ' ')` might create access inconsistencies to children of the parent entity.\n",
      "  warnings.warn(\n",
      "/home/rp693/miniconda3/lib/python3.12/site-packages/Bio/PDB/Entity.py:197: BiopythonWarning: The id `(' ', 106, ' ')` is already used for a sibling of this entity. Changing id from `(' ', 105, ' ')` to `(' ', 106, ' ')` might create access inconsistencies to children of the parent entity.\n",
      "  warnings.warn(\n",
      "/home/rp693/miniconda3/lib/python3.12/site-packages/Bio/PDB/Entity.py:197: BiopythonWarning: The id `(' ', 107, ' ')` is already used for a sibling of this entity. Changing id from `(' ', 106, ' ')` to `(' ', 107, ' ')` might create access inconsistencies to children of the parent entity.\n",
      "  warnings.warn(\n"
     ]
    },
    {
     "name": "stdout",
     "output_type": "stream",
     "text": [
      "Downloading PDB structure '8thz'...\n"
     ]
    },
    {
     "name": "stderr",
     "output_type": "stream",
     "text": [
      "/home/rp693/ANARCI/Example_scripts_and_sequences/ImmunoPDB.py:11: SyntaxWarning: invalid escape sequence '\\ '\n",
      "  description='''\n",
      "/home/rp693/miniconda3/lib/python3.12/site-packages/Bio/PDB/Entity.py:197: BiopythonWarning: The id `(' ', 11, ' ')` is already used for a sibling of this entity. Changing id from `(' ', 10, ' ')` to `(' ', 11, ' ')` might create access inconsistencies to children of the parent entity.\n",
      "  warnings.warn(\n",
      "/home/rp693/miniconda3/lib/python3.12/site-packages/Bio/PDB/Entity.py:197: BiopythonWarning: The id `(' ', 12, ' ')` is already used for a sibling of this entity. Changing id from `(' ', 11, ' ')` to `(' ', 12, ' ')` might create access inconsistencies to children of the parent entity.\n",
      "  warnings.warn(\n",
      "/home/rp693/miniconda3/lib/python3.12/site-packages/Bio/PDB/Entity.py:197: BiopythonWarning: The id `(' ', 13, ' ')` is already used for a sibling of this entity. Changing id from `(' ', 12, ' ')` to `(' ', 13, ' ')` might create access inconsistencies to children of the parent entity.\n",
      "  warnings.warn(\n",
      "/home/rp693/miniconda3/lib/python3.12/site-packages/Bio/PDB/Entity.py:197: BiopythonWarning: The id `(' ', 14, ' ')` is already used for a sibling of this entity. Changing id from `(' ', 13, ' ')` to `(' ', 14, ' ')` might create access inconsistencies to children of the parent entity.\n",
      "  warnings.warn(\n",
      "/home/rp693/miniconda3/lib/python3.12/site-packages/Bio/PDB/Entity.py:197: BiopythonWarning: The id `(' ', 15, ' ')` is already used for a sibling of this entity. Changing id from `(' ', 14, ' ')` to `(' ', 15, ' ')` might create access inconsistencies to children of the parent entity.\n",
      "  warnings.warn(\n",
      "/home/rp693/miniconda3/lib/python3.12/site-packages/Bio/PDB/Entity.py:197: BiopythonWarning: The id `(' ', 16, ' ')` is already used for a sibling of this entity. Changing id from `(' ', 15, ' ')` to `(' ', 16, ' ')` might create access inconsistencies to children of the parent entity.\n",
      "  warnings.warn(\n",
      "/home/rp693/miniconda3/lib/python3.12/site-packages/Bio/PDB/Entity.py:197: BiopythonWarning: The id `(' ', 17, ' ')` is already used for a sibling of this entity. Changing id from `(' ', 16, ' ')` to `(' ', 17, ' ')` might create access inconsistencies to children of the parent entity.\n",
      "  warnings.warn(\n",
      "/home/rp693/miniconda3/lib/python3.12/site-packages/Bio/PDB/Entity.py:197: BiopythonWarning: The id `(' ', 18, ' ')` is already used for a sibling of this entity. Changing id from `(' ', 17, ' ')` to `(' ', 18, ' ')` might create access inconsistencies to children of the parent entity.\n",
      "  warnings.warn(\n",
      "/home/rp693/miniconda3/lib/python3.12/site-packages/Bio/PDB/Entity.py:197: BiopythonWarning: The id `(' ', 19, ' ')` is already used for a sibling of this entity. Changing id from `(' ', 18, ' ')` to `(' ', 19, ' ')` might create access inconsistencies to children of the parent entity.\n",
      "  warnings.warn(\n",
      "/home/rp693/miniconda3/lib/python3.12/site-packages/Bio/PDB/Entity.py:197: BiopythonWarning: The id `(' ', 20, ' ')` is already used for a sibling of this entity. Changing id from `(' ', 19, ' ')` to `(' ', 20, ' ')` might create access inconsistencies to children of the parent entity.\n",
      "  warnings.warn(\n",
      "/home/rp693/miniconda3/lib/python3.12/site-packages/Bio/PDB/Entity.py:197: BiopythonWarning: The id `(' ', 21, ' ')` is already used for a sibling of this entity. Changing id from `(' ', 20, ' ')` to `(' ', 21, ' ')` might create access inconsistencies to children of the parent entity.\n",
      "  warnings.warn(\n",
      "/home/rp693/miniconda3/lib/python3.12/site-packages/Bio/PDB/Entity.py:197: BiopythonWarning: The id `(' ', 22, ' ')` is already used for a sibling of this entity. Changing id from `(' ', 21, ' ')` to `(' ', 22, ' ')` might create access inconsistencies to children of the parent entity.\n",
      "  warnings.warn(\n",
      "/home/rp693/miniconda3/lib/python3.12/site-packages/Bio/PDB/Entity.py:197: BiopythonWarning: The id `(' ', 23, ' ')` is already used for a sibling of this entity. Changing id from `(' ', 22, ' ')` to `(' ', 23, ' ')` might create access inconsistencies to children of the parent entity.\n",
      "  warnings.warn(\n",
      "/home/rp693/miniconda3/lib/python3.12/site-packages/Bio/PDB/Entity.py:197: BiopythonWarning: The id `(' ', 24, ' ')` is already used for a sibling of this entity. Changing id from `(' ', 23, ' ')` to `(' ', 24, ' ')` might create access inconsistencies to children of the parent entity.\n",
      "  warnings.warn(\n",
      "/home/rp693/miniconda3/lib/python3.12/site-packages/Bio/PDB/Entity.py:197: BiopythonWarning: The id `(' ', 25, ' ')` is already used for a sibling of this entity. Changing id from `(' ', 24, ' ')` to `(' ', 25, ' ')` might create access inconsistencies to children of the parent entity.\n",
      "  warnings.warn(\n",
      "/home/rp693/miniconda3/lib/python3.12/site-packages/Bio/PDB/Entity.py:197: BiopythonWarning: The id `(' ', 26, ' ')` is already used for a sibling of this entity. Changing id from `(' ', 25, ' ')` to `(' ', 26, ' ')` might create access inconsistencies to children of the parent entity.\n",
      "  warnings.warn(\n",
      "/home/rp693/miniconda3/lib/python3.12/site-packages/Bio/PDB/Entity.py:197: BiopythonWarning: The id `(' ', 27, ' ')` is already used for a sibling of this entity. Changing id from `(' ', 26, ' ')` to `(' ', 27, ' ')` might create access inconsistencies to children of the parent entity.\n",
      "  warnings.warn(\n",
      "/home/rp693/miniconda3/lib/python3.12/site-packages/Bio/PDB/Entity.py:197: BiopythonWarning: The id `(' ', 28, ' ')` is already used for a sibling of this entity. Changing id from `(' ', 27, ' ')` to `(' ', 28, ' ')` might create access inconsistencies to children of the parent entity.\n",
      "  warnings.warn(\n",
      "/home/rp693/miniconda3/lib/python3.12/site-packages/Bio/PDB/Entity.py:197: BiopythonWarning: The id `(' ', 29, ' ')` is already used for a sibling of this entity. Changing id from `(' ', 28, ' ')` to `(' ', 29, ' ')` might create access inconsistencies to children of the parent entity.\n",
      "  warnings.warn(\n",
      "/home/rp693/miniconda3/lib/python3.12/site-packages/Bio/PDB/Entity.py:197: BiopythonWarning: The id `(' ', 30, ' ')` is already used for a sibling of this entity. Changing id from `(' ', 29, ' ')` to `(' ', 30, ' ')` might create access inconsistencies to children of the parent entity.\n",
      "  warnings.warn(\n",
      "/home/rp693/miniconda3/lib/python3.12/site-packages/Bio/PDB/Entity.py:197: BiopythonWarning: The id `(' ', 31, ' ')` is already used for a sibling of this entity. Changing id from `(' ', 30, ' ')` to `(' ', 31, ' ')` might create access inconsistencies to children of the parent entity.\n",
      "  warnings.warn(\n",
      "/home/rp693/miniconda3/lib/python3.12/site-packages/Bio/PDB/Entity.py:197: BiopythonWarning: The id `(' ', 32, ' ')` is already used for a sibling of this entity. Changing id from `(' ', 31, ' ')` to `(' ', 32, ' ')` might create access inconsistencies to children of the parent entity.\n",
      "  warnings.warn(\n",
      "/home/rp693/miniconda3/lib/python3.12/site-packages/Bio/PDB/Entity.py:197: BiopythonWarning: The id `(' ', 33, ' ')` is already used for a sibling of this entity. Changing id from `(' ', 32, ' ')` to `(' ', 33, ' ')` might create access inconsistencies to children of the parent entity.\n",
      "  warnings.warn(\n",
      "/home/rp693/miniconda3/lib/python3.12/site-packages/Bio/PDB/Entity.py:197: BiopythonWarning: The id `(' ', 34, ' ')` is already used for a sibling of this entity. Changing id from `(' ', 33, ' ')` to `(' ', 34, ' ')` might create access inconsistencies to children of the parent entity.\n",
      "  warnings.warn(\n",
      "/home/rp693/miniconda3/lib/python3.12/site-packages/Bio/PDB/Entity.py:197: BiopythonWarning: The id `(' ', 35, ' ')` is already used for a sibling of this entity. Changing id from `(' ', 34, ' ')` to `(' ', 35, ' ')` might create access inconsistencies to children of the parent entity.\n",
      "  warnings.warn(\n",
      "/home/rp693/miniconda3/lib/python3.12/site-packages/Bio/PDB/Entity.py:197: BiopythonWarning: The id `(' ', 36, ' ')` is already used for a sibling of this entity. Changing id from `(' ', 35, ' ')` to `(' ', 36, ' ')` might create access inconsistencies to children of the parent entity.\n",
      "  warnings.warn(\n",
      "/home/rp693/miniconda3/lib/python3.12/site-packages/Bio/PDB/Entity.py:197: BiopythonWarning: The id `(' ', 37, ' ')` is already used for a sibling of this entity. Changing id from `(' ', 36, ' ')` to `(' ', 37, ' ')` might create access inconsistencies to children of the parent entity.\n",
      "  warnings.warn(\n",
      "/home/rp693/miniconda3/lib/python3.12/site-packages/Bio/PDB/Entity.py:197: BiopythonWarning: The id `(' ', 38, ' ')` is already used for a sibling of this entity. Changing id from `(' ', 37, ' ')` to `(' ', 38, ' ')` might create access inconsistencies to children of the parent entity.\n",
      "  warnings.warn(\n",
      "/home/rp693/miniconda3/lib/python3.12/site-packages/Bio/PDB/Entity.py:197: BiopythonWarning: The id `(' ', 39, ' ')` is already used for a sibling of this entity. Changing id from `(' ', 38, ' ')` to `(' ', 39, ' ')` might create access inconsistencies to children of the parent entity.\n",
      "  warnings.warn(\n",
      "/home/rp693/miniconda3/lib/python3.12/site-packages/Bio/PDB/Entity.py:197: BiopythonWarning: The id `(' ', 40, ' ')` is already used for a sibling of this entity. Changing id from `(' ', 39, ' ')` to `(' ', 40, ' ')` might create access inconsistencies to children of the parent entity.\n",
      "  warnings.warn(\n",
      "/home/rp693/miniconda3/lib/python3.12/site-packages/Bio/PDB/Entity.py:197: BiopythonWarning: The id `(' ', 41, ' ')` is already used for a sibling of this entity. Changing id from `(' ', 40, ' ')` to `(' ', 41, ' ')` might create access inconsistencies to children of the parent entity.\n",
      "  warnings.warn(\n",
      "/home/rp693/miniconda3/lib/python3.12/site-packages/Bio/PDB/Entity.py:197: BiopythonWarning: The id `(' ', 42, ' ')` is already used for a sibling of this entity. Changing id from `(' ', 41, ' ')` to `(' ', 42, ' ')` might create access inconsistencies to children of the parent entity.\n",
      "  warnings.warn(\n",
      "/home/rp693/miniconda3/lib/python3.12/site-packages/Bio/PDB/Entity.py:197: BiopythonWarning: The id `(' ', 43, ' ')` is already used for a sibling of this entity. Changing id from `(' ', 42, ' ')` to `(' ', 43, ' ')` might create access inconsistencies to children of the parent entity.\n",
      "  warnings.warn(\n",
      "/home/rp693/miniconda3/lib/python3.12/site-packages/Bio/PDB/Entity.py:197: BiopythonWarning: The id `(' ', 44, ' ')` is already used for a sibling of this entity. Changing id from `(' ', 43, ' ')` to `(' ', 44, ' ')` might create access inconsistencies to children of the parent entity.\n",
      "  warnings.warn(\n",
      "/home/rp693/miniconda3/lib/python3.12/site-packages/Bio/PDB/Entity.py:197: BiopythonWarning: The id `(' ', 45, ' ')` is already used for a sibling of this entity. Changing id from `(' ', 44, ' ')` to `(' ', 45, ' ')` might create access inconsistencies to children of the parent entity.\n",
      "  warnings.warn(\n",
      "/home/rp693/miniconda3/lib/python3.12/site-packages/Bio/PDB/Entity.py:197: BiopythonWarning: The id `(' ', 46, ' ')` is already used for a sibling of this entity. Changing id from `(' ', 45, ' ')` to `(' ', 46, ' ')` might create access inconsistencies to children of the parent entity.\n",
      "  warnings.warn(\n",
      "/home/rp693/miniconda3/lib/python3.12/site-packages/Bio/PDB/Entity.py:197: BiopythonWarning: The id `(' ', 47, ' ')` is already used for a sibling of this entity. Changing id from `(' ', 46, ' ')` to `(' ', 47, ' ')` might create access inconsistencies to children of the parent entity.\n",
      "  warnings.warn(\n",
      "/home/rp693/miniconda3/lib/python3.12/site-packages/Bio/PDB/Entity.py:197: BiopythonWarning: The id `(' ', 48, ' ')` is already used for a sibling of this entity. Changing id from `(' ', 47, ' ')` to `(' ', 48, ' ')` might create access inconsistencies to children of the parent entity.\n",
      "  warnings.warn(\n",
      "/home/rp693/miniconda3/lib/python3.12/site-packages/Bio/PDB/Entity.py:197: BiopythonWarning: The id `(' ', 49, ' ')` is already used for a sibling of this entity. Changing id from `(' ', 48, ' ')` to `(' ', 49, ' ')` might create access inconsistencies to children of the parent entity.\n",
      "  warnings.warn(\n",
      "/home/rp693/miniconda3/lib/python3.12/site-packages/Bio/PDB/Entity.py:197: BiopythonWarning: The id `(' ', 50, ' ')` is already used for a sibling of this entity. Changing id from `(' ', 49, ' ')` to `(' ', 50, ' ')` might create access inconsistencies to children of the parent entity.\n",
      "  warnings.warn(\n",
      "/home/rp693/miniconda3/lib/python3.12/site-packages/Bio/PDB/Entity.py:197: BiopythonWarning: The id `(' ', 51, ' ')` is already used for a sibling of this entity. Changing id from `(' ', 50, ' ')` to `(' ', 51, ' ')` might create access inconsistencies to children of the parent entity.\n",
      "  warnings.warn(\n",
      "/home/rp693/miniconda3/lib/python3.12/site-packages/Bio/PDB/Entity.py:197: BiopythonWarning: The id `(' ', 52, ' ')` is already used for a sibling of this entity. Changing id from `(' ', 51, ' ')` to `(' ', 52, ' ')` might create access inconsistencies to children of the parent entity.\n",
      "  warnings.warn(\n",
      "/home/rp693/miniconda3/lib/python3.12/site-packages/Bio/PDB/Entity.py:197: BiopythonWarning: The id `(' ', 53, ' ')` is already used for a sibling of this entity. Changing id from `(' ', 52, ' ')` to `(' ', 53, ' ')` might create access inconsistencies to children of the parent entity.\n",
      "  warnings.warn(\n",
      "/home/rp693/miniconda3/lib/python3.12/site-packages/Bio/PDB/Entity.py:197: BiopythonWarning: The id `(' ', 54, ' ')` is already used for a sibling of this entity. Changing id from `(' ', 53, ' ')` to `(' ', 54, ' ')` might create access inconsistencies to children of the parent entity.\n",
      "  warnings.warn(\n",
      "/home/rp693/miniconda3/lib/python3.12/site-packages/Bio/PDB/Entity.py:197: BiopythonWarning: The id `(' ', 55, ' ')` is already used for a sibling of this entity. Changing id from `(' ', 54, ' ')` to `(' ', 55, ' ')` might create access inconsistencies to children of the parent entity.\n",
      "  warnings.warn(\n",
      "/home/rp693/miniconda3/lib/python3.12/site-packages/Bio/PDB/Entity.py:197: BiopythonWarning: The id `(' ', 56, ' ')` is already used for a sibling of this entity. Changing id from `(' ', 55, ' ')` to `(' ', 56, ' ')` might create access inconsistencies to children of the parent entity.\n",
      "  warnings.warn(\n",
      "/home/rp693/miniconda3/lib/python3.12/site-packages/Bio/PDB/Entity.py:197: BiopythonWarning: The id `(' ', 57, ' ')` is already used for a sibling of this entity. Changing id from `(' ', 56, ' ')` to `(' ', 57, ' ')` might create access inconsistencies to children of the parent entity.\n",
      "  warnings.warn(\n",
      "/home/rp693/miniconda3/lib/python3.12/site-packages/Bio/PDB/Entity.py:197: BiopythonWarning: The id `(' ', 58, ' ')` is already used for a sibling of this entity. Changing id from `(' ', 57, ' ')` to `(' ', 58, ' ')` might create access inconsistencies to children of the parent entity.\n",
      "  warnings.warn(\n",
      "/home/rp693/miniconda3/lib/python3.12/site-packages/Bio/PDB/Entity.py:197: BiopythonWarning: The id `(' ', 59, ' ')` is already used for a sibling of this entity. Changing id from `(' ', 58, ' ')` to `(' ', 59, ' ')` might create access inconsistencies to children of the parent entity.\n",
      "  warnings.warn(\n",
      "/home/rp693/miniconda3/lib/python3.12/site-packages/Bio/PDB/Entity.py:197: BiopythonWarning: The id `(' ', 60, ' ')` is already used for a sibling of this entity. Changing id from `(' ', 59, ' ')` to `(' ', 60, ' ')` might create access inconsistencies to children of the parent entity.\n",
      "  warnings.warn(\n",
      "/home/rp693/miniconda3/lib/python3.12/site-packages/Bio/PDB/Entity.py:197: BiopythonWarning: The id `(' ', 61, ' ')` is already used for a sibling of this entity. Changing id from `(' ', 60, ' ')` to `(' ', 61, ' ')` might create access inconsistencies to children of the parent entity.\n",
      "  warnings.warn(\n",
      "/home/rp693/miniconda3/lib/python3.12/site-packages/Bio/PDB/Entity.py:197: BiopythonWarning: The id `(' ', 62, ' ')` is already used for a sibling of this entity. Changing id from `(' ', 61, ' ')` to `(' ', 62, ' ')` might create access inconsistencies to children of the parent entity.\n",
      "  warnings.warn(\n",
      "/home/rp693/miniconda3/lib/python3.12/site-packages/Bio/PDB/Entity.py:197: BiopythonWarning: The id `(' ', 63, ' ')` is already used for a sibling of this entity. Changing id from `(' ', 62, ' ')` to `(' ', 63, ' ')` might create access inconsistencies to children of the parent entity.\n",
      "  warnings.warn(\n",
      "/home/rp693/miniconda3/lib/python3.12/site-packages/Bio/PDB/Entity.py:197: BiopythonWarning: The id `(' ', 64, ' ')` is already used for a sibling of this entity. Changing id from `(' ', 63, ' ')` to `(' ', 64, ' ')` might create access inconsistencies to children of the parent entity.\n",
      "  warnings.warn(\n",
      "/home/rp693/miniconda3/lib/python3.12/site-packages/Bio/PDB/Entity.py:197: BiopythonWarning: The id `(' ', 65, ' ')` is already used for a sibling of this entity. Changing id from `(' ', 64, ' ')` to `(' ', 65, ' ')` might create access inconsistencies to children of the parent entity.\n",
      "  warnings.warn(\n",
      "/home/rp693/miniconda3/lib/python3.12/site-packages/Bio/PDB/Entity.py:197: BiopythonWarning: The id `(' ', 66, ' ')` is already used for a sibling of this entity. Changing id from `(' ', 65, ' ')` to `(' ', 66, ' ')` might create access inconsistencies to children of the parent entity.\n",
      "  warnings.warn(\n",
      "/home/rp693/miniconda3/lib/python3.12/site-packages/Bio/PDB/Entity.py:197: BiopythonWarning: The id `(' ', 67, ' ')` is already used for a sibling of this entity. Changing id from `(' ', 66, ' ')` to `(' ', 67, ' ')` might create access inconsistencies to children of the parent entity.\n",
      "  warnings.warn(\n",
      "/home/rp693/miniconda3/lib/python3.12/site-packages/Bio/PDB/Entity.py:197: BiopythonWarning: The id `(' ', 68, ' ')` is already used for a sibling of this entity. Changing id from `(' ', 67, ' ')` to `(' ', 68, ' ')` might create access inconsistencies to children of the parent entity.\n",
      "  warnings.warn(\n",
      "/home/rp693/miniconda3/lib/python3.12/site-packages/Bio/PDB/Entity.py:197: BiopythonWarning: The id `(' ', 69, ' ')` is already used for a sibling of this entity. Changing id from `(' ', 68, ' ')` to `(' ', 69, ' ')` might create access inconsistencies to children of the parent entity.\n",
      "  warnings.warn(\n",
      "/home/rp693/miniconda3/lib/python3.12/site-packages/Bio/PDB/Entity.py:197: BiopythonWarning: The id `(' ', 70, ' ')` is already used for a sibling of this entity. Changing id from `(' ', 69, ' ')` to `(' ', 70, ' ')` might create access inconsistencies to children of the parent entity.\n",
      "  warnings.warn(\n",
      "/home/rp693/miniconda3/lib/python3.12/site-packages/Bio/PDB/Entity.py:197: BiopythonWarning: The id `(' ', 71, ' ')` is already used for a sibling of this entity. Changing id from `(' ', 70, ' ')` to `(' ', 71, ' ')` might create access inconsistencies to children of the parent entity.\n",
      "  warnings.warn(\n",
      "/home/rp693/miniconda3/lib/python3.12/site-packages/Bio/PDB/Entity.py:197: BiopythonWarning: The id `(' ', 72, ' ')` is already used for a sibling of this entity. Changing id from `(' ', 71, ' ')` to `(' ', 72, ' ')` might create access inconsistencies to children of the parent entity.\n",
      "  warnings.warn(\n",
      "/home/rp693/miniconda3/lib/python3.12/site-packages/Bio/PDB/Entity.py:197: BiopythonWarning: The id `(' ', 73, ' ')` is already used for a sibling of this entity. Changing id from `(' ', 72, ' ')` to `(' ', 73, ' ')` might create access inconsistencies to children of the parent entity.\n",
      "  warnings.warn(\n",
      "/home/rp693/miniconda3/lib/python3.12/site-packages/Bio/PDB/Entity.py:197: BiopythonWarning: The id `(' ', 74, ' ')` is already used for a sibling of this entity. Changing id from `(' ', 73, ' ')` to `(' ', 74, ' ')` might create access inconsistencies to children of the parent entity.\n",
      "  warnings.warn(\n",
      "/home/rp693/miniconda3/lib/python3.12/site-packages/Bio/PDB/Entity.py:197: BiopythonWarning: The id `(' ', 75, ' ')` is already used for a sibling of this entity. Changing id from `(' ', 74, ' ')` to `(' ', 75, ' ')` might create access inconsistencies to children of the parent entity.\n",
      "  warnings.warn(\n",
      "/home/rp693/miniconda3/lib/python3.12/site-packages/Bio/PDB/Entity.py:197: BiopythonWarning: The id `(' ', 76, ' ')` is already used for a sibling of this entity. Changing id from `(' ', 75, ' ')` to `(' ', 76, ' ')` might create access inconsistencies to children of the parent entity.\n",
      "  warnings.warn(\n",
      "/home/rp693/miniconda3/lib/python3.12/site-packages/Bio/PDB/Entity.py:197: BiopythonWarning: The id `(' ', 77, ' ')` is already used for a sibling of this entity. Changing id from `(' ', 76, ' ')` to `(' ', 77, ' ')` might create access inconsistencies to children of the parent entity.\n",
      "  warnings.warn(\n",
      "/home/rp693/miniconda3/lib/python3.12/site-packages/Bio/PDB/Entity.py:197: BiopythonWarning: The id `(' ', 78, ' ')` is already used for a sibling of this entity. Changing id from `(' ', 77, ' ')` to `(' ', 78, ' ')` might create access inconsistencies to children of the parent entity.\n",
      "  warnings.warn(\n",
      "/home/rp693/miniconda3/lib/python3.12/site-packages/Bio/PDB/Entity.py:197: BiopythonWarning: The id `(' ', 79, ' ')` is already used for a sibling of this entity. Changing id from `(' ', 78, ' ')` to `(' ', 79, ' ')` might create access inconsistencies to children of the parent entity.\n",
      "  warnings.warn(\n",
      "/home/rp693/miniconda3/lib/python3.12/site-packages/Bio/PDB/Entity.py:197: BiopythonWarning: The id `(' ', 80, ' ')` is already used for a sibling of this entity. Changing id from `(' ', 79, ' ')` to `(' ', 80, ' ')` might create access inconsistencies to children of the parent entity.\n",
      "  warnings.warn(\n",
      "/home/rp693/miniconda3/lib/python3.12/site-packages/Bio/PDB/Entity.py:197: BiopythonWarning: The id `(' ', 81, ' ')` is already used for a sibling of this entity. Changing id from `(' ', 80, ' ')` to `(' ', 81, ' ')` might create access inconsistencies to children of the parent entity.\n",
      "  warnings.warn(\n",
      "/home/rp693/miniconda3/lib/python3.12/site-packages/Bio/PDB/Entity.py:197: BiopythonWarning: The id `(' ', 82, ' ')` is already used for a sibling of this entity. Changing id from `(' ', 81, ' ')` to `(' ', 82, ' ')` might create access inconsistencies to children of the parent entity.\n",
      "  warnings.warn(\n",
      "/home/rp693/miniconda3/lib/python3.12/site-packages/Bio/PDB/Entity.py:197: BiopythonWarning: The id `(' ', 83, ' ')` is already used for a sibling of this entity. Changing id from `(' ', 82, ' ')` to `(' ', 83, ' ')` might create access inconsistencies to children of the parent entity.\n",
      "  warnings.warn(\n",
      "/home/rp693/miniconda3/lib/python3.12/site-packages/Bio/PDB/Entity.py:197: BiopythonWarning: The id `(' ', 84, ' ')` is already used for a sibling of this entity. Changing id from `(' ', 83, ' ')` to `(' ', 84, ' ')` might create access inconsistencies to children of the parent entity.\n",
      "  warnings.warn(\n",
      "/home/rp693/miniconda3/lib/python3.12/site-packages/Bio/PDB/Entity.py:197: BiopythonWarning: The id `(' ', 85, ' ')` is already used for a sibling of this entity. Changing id from `(' ', 84, ' ')` to `(' ', 85, ' ')` might create access inconsistencies to children of the parent entity.\n",
      "  warnings.warn(\n",
      "/home/rp693/miniconda3/lib/python3.12/site-packages/Bio/PDB/Entity.py:197: BiopythonWarning: The id `(' ', 86, ' ')` is already used for a sibling of this entity. Changing id from `(' ', 85, ' ')` to `(' ', 86, ' ')` might create access inconsistencies to children of the parent entity.\n",
      "  warnings.warn(\n",
      "/home/rp693/miniconda3/lib/python3.12/site-packages/Bio/PDB/Entity.py:197: BiopythonWarning: The id `(' ', 87, ' ')` is already used for a sibling of this entity. Changing id from `(' ', 86, ' ')` to `(' ', 87, ' ')` might create access inconsistencies to children of the parent entity.\n",
      "  warnings.warn(\n",
      "/home/rp693/miniconda3/lib/python3.12/site-packages/Bio/PDB/Entity.py:197: BiopythonWarning: The id `(' ', 88, ' ')` is already used for a sibling of this entity. Changing id from `(' ', 87, ' ')` to `(' ', 88, ' ')` might create access inconsistencies to children of the parent entity.\n",
      "  warnings.warn(\n",
      "/home/rp693/miniconda3/lib/python3.12/site-packages/Bio/PDB/Entity.py:197: BiopythonWarning: The id `(' ', 89, ' ')` is already used for a sibling of this entity. Changing id from `(' ', 88, ' ')` to `(' ', 89, ' ')` might create access inconsistencies to children of the parent entity.\n",
      "  warnings.warn(\n",
      "/home/rp693/miniconda3/lib/python3.12/site-packages/Bio/PDB/Entity.py:197: BiopythonWarning: The id `(' ', 90, ' ')` is already used for a sibling of this entity. Changing id from `(' ', 89, ' ')` to `(' ', 90, ' ')` might create access inconsistencies to children of the parent entity.\n",
      "  warnings.warn(\n",
      "/home/rp693/miniconda3/lib/python3.12/site-packages/Bio/PDB/Entity.py:197: BiopythonWarning: The id `(' ', 91, ' ')` is already used for a sibling of this entity. Changing id from `(' ', 90, ' ')` to `(' ', 91, ' ')` might create access inconsistencies to children of the parent entity.\n",
      "  warnings.warn(\n",
      "/home/rp693/miniconda3/lib/python3.12/site-packages/Bio/PDB/Entity.py:197: BiopythonWarning: The id `(' ', 92, ' ')` is already used for a sibling of this entity. Changing id from `(' ', 91, ' ')` to `(' ', 92, ' ')` might create access inconsistencies to children of the parent entity.\n",
      "  warnings.warn(\n",
      "/home/rp693/miniconda3/lib/python3.12/site-packages/Bio/PDB/Entity.py:197: BiopythonWarning: The id `(' ', 93, ' ')` is already used for a sibling of this entity. Changing id from `(' ', 92, ' ')` to `(' ', 93, ' ')` might create access inconsistencies to children of the parent entity.\n",
      "  warnings.warn(\n",
      "/home/rp693/miniconda3/lib/python3.12/site-packages/Bio/PDB/Entity.py:197: BiopythonWarning: The id `(' ', 94, ' ')` is already used for a sibling of this entity. Changing id from `(' ', 93, ' ')` to `(' ', 94, ' ')` might create access inconsistencies to children of the parent entity.\n",
      "  warnings.warn(\n",
      "/home/rp693/miniconda3/lib/python3.12/site-packages/Bio/PDB/Entity.py:197: BiopythonWarning: The id `(' ', 95, ' ')` is already used for a sibling of this entity. Changing id from `(' ', 94, ' ')` to `(' ', 95, ' ')` might create access inconsistencies to children of the parent entity.\n",
      "  warnings.warn(\n",
      "/home/rp693/miniconda3/lib/python3.12/site-packages/Bio/PDB/Entity.py:197: BiopythonWarning: The id `(' ', 96, ' ')` is already used for a sibling of this entity. Changing id from `(' ', 95, ' ')` to `(' ', 96, ' ')` might create access inconsistencies to children of the parent entity.\n",
      "  warnings.warn(\n",
      "/home/rp693/miniconda3/lib/python3.12/site-packages/Bio/PDB/Entity.py:197: BiopythonWarning: The id `(' ', 97, ' ')` is already used for a sibling of this entity. Changing id from `(' ', 96, ' ')` to `(' ', 97, ' ')` might create access inconsistencies to children of the parent entity.\n",
      "  warnings.warn(\n",
      "/home/rp693/miniconda3/lib/python3.12/site-packages/Bio/PDB/Entity.py:197: BiopythonWarning: The id `(' ', 98, ' ')` is already used for a sibling of this entity. Changing id from `(' ', 97, ' ')` to `(' ', 98, ' ')` might create access inconsistencies to children of the parent entity.\n",
      "  warnings.warn(\n",
      "/home/rp693/miniconda3/lib/python3.12/site-packages/Bio/PDB/Entity.py:197: BiopythonWarning: The id `(' ', 99, ' ')` is already used for a sibling of this entity. Changing id from `(' ', 98, ' ')` to `(' ', 99, ' ')` might create access inconsistencies to children of the parent entity.\n",
      "  warnings.warn(\n",
      "/home/rp693/miniconda3/lib/python3.12/site-packages/Bio/PDB/Entity.py:197: BiopythonWarning: The id `(' ', 100, ' ')` is already used for a sibling of this entity. Changing id from `(' ', 99, ' ')` to `(' ', 100, ' ')` might create access inconsistencies to children of the parent entity.\n",
      "  warnings.warn(\n",
      "/home/rp693/miniconda3/lib/python3.12/site-packages/Bio/PDB/Entity.py:197: BiopythonWarning: The id `(' ', 101, ' ')` is already used for a sibling of this entity. Changing id from `(' ', 100, ' ')` to `(' ', 101, ' ')` might create access inconsistencies to children of the parent entity.\n",
      "  warnings.warn(\n",
      "/home/rp693/miniconda3/lib/python3.12/site-packages/Bio/PDB/Entity.py:197: BiopythonWarning: The id `(' ', 102, ' ')` is already used for a sibling of this entity. Changing id from `(' ', 101, ' ')` to `(' ', 102, ' ')` might create access inconsistencies to children of the parent entity.\n",
      "  warnings.warn(\n",
      "/home/rp693/miniconda3/lib/python3.12/site-packages/Bio/PDB/Entity.py:197: BiopythonWarning: The id `(' ', 103, ' ')` is already used for a sibling of this entity. Changing id from `(' ', 102, ' ')` to `(' ', 103, ' ')` might create access inconsistencies to children of the parent entity.\n",
      "  warnings.warn(\n",
      "/home/rp693/miniconda3/lib/python3.12/site-packages/Bio/PDB/Entity.py:197: BiopythonWarning: The id `(' ', 104, ' ')` is already used for a sibling of this entity. Changing id from `(' ', 103, ' ')` to `(' ', 104, ' ')` might create access inconsistencies to children of the parent entity.\n",
      "  warnings.warn(\n",
      "/home/rp693/miniconda3/lib/python3.12/site-packages/Bio/PDB/Entity.py:197: BiopythonWarning: The id `(' ', 105, ' ')` is already used for a sibling of this entity. Changing id from `(' ', 104, ' ')` to `(' ', 105, ' ')` might create access inconsistencies to children of the parent entity.\n",
      "  warnings.warn(\n"
     ]
    },
    {
     "name": "stdout",
     "output_type": "stream",
     "text": [
      "Structure exists: 'pdb_files/pdb8thz.ent' \n"
     ]
    },
    {
     "name": "stderr",
     "output_type": "stream",
     "text": [
      "/home/rp693/ANARCI/Example_scripts_and_sequences/ImmunoPDB.py:11: SyntaxWarning: invalid escape sequence '\\ '\n",
      "  description='''\n"
     ]
    },
    {
     "name": "stdout",
     "output_type": "stream",
     "text": [
      "Downloading PDB structure '8w0v'...\n"
     ]
    },
    {
     "name": "stderr",
     "output_type": "stream",
     "text": [
      "/home/rp693/ANARCI/Example_scripts_and_sequences/ImmunoPDB.py:11: SyntaxWarning: invalid escape sequence '\\ '\n",
      "  description='''\n",
      "/home/rp693/miniconda3/lib/python3.12/site-packages/Bio/PDB/Entity.py:197: BiopythonWarning: The id `(' ', 28, ' ')` is already used for a sibling of this entity. Changing id from `(' ', 27, 'A')` to `(' ', 28, ' ')` might create access inconsistencies to children of the parent entity.\n",
      "  warnings.warn(\n",
      "/home/rp693/miniconda3/lib/python3.12/site-packages/Bio/PDB/Entity.py:197: BiopythonWarning: The id `(' ', 29, ' ')` is already used for a sibling of this entity. Changing id from `(' ', 28, ' ')` to `(' ', 29, ' ')` might create access inconsistencies to children of the parent entity.\n",
      "  warnings.warn(\n",
      "/home/rp693/miniconda3/lib/python3.12/site-packages/Bio/PDB/Entity.py:197: BiopythonWarning: The id `(' ', 30, ' ')` is already used for a sibling of this entity. Changing id from `(' ', 29, ' ')` to `(' ', 30, ' ')` might create access inconsistencies to children of the parent entity.\n",
      "  warnings.warn(\n"
     ]
    },
    {
     "name": "stdout",
     "output_type": "stream",
     "text": [
      "Downloading PDB structure '8w0w'...\n"
     ]
    },
    {
     "name": "stderr",
     "output_type": "stream",
     "text": [
      "/home/rp693/ANARCI/Example_scripts_and_sequences/ImmunoPDB.py:11: SyntaxWarning: invalid escape sequence '\\ '\n",
      "  description='''\n",
      "/home/rp693/miniconda3/lib/python3.12/site-packages/Bio/PDB/Entity.py:197: BiopythonWarning: The id `(' ', 28, ' ')` is already used for a sibling of this entity. Changing id from `(' ', 27, 'A')` to `(' ', 28, ' ')` might create access inconsistencies to children of the parent entity.\n",
      "  warnings.warn(\n",
      "/home/rp693/miniconda3/lib/python3.12/site-packages/Bio/PDB/Entity.py:197: BiopythonWarning: The id `(' ', 29, ' ')` is already used for a sibling of this entity. Changing id from `(' ', 28, ' ')` to `(' ', 29, ' ')` might create access inconsistencies to children of the parent entity.\n",
      "  warnings.warn(\n",
      "/home/rp693/miniconda3/lib/python3.12/site-packages/Bio/PDB/Entity.py:197: BiopythonWarning: The id `(' ', 30, ' ')` is already used for a sibling of this entity. Changing id from `(' ', 29, ' ')` to `(' ', 30, ' ')` might create access inconsistencies to children of the parent entity.\n",
      "  warnings.warn(\n"
     ]
    },
    {
     "name": "stdout",
     "output_type": "stream",
     "text": [
      "Downloading PDB structure '8w0x'...\n"
     ]
    },
    {
     "name": "stderr",
     "output_type": "stream",
     "text": [
      "/home/rp693/ANARCI/Example_scripts_and_sequences/ImmunoPDB.py:11: SyntaxWarning: invalid escape sequence '\\ '\n",
      "  description='''\n"
     ]
    },
    {
     "name": "stdout",
     "output_type": "stream",
     "text": [
      "Downloading PDB structure '8w0y'...\n"
     ]
    },
    {
     "name": "stderr",
     "output_type": "stream",
     "text": [
      "/home/rp693/ANARCI/Example_scripts_and_sequences/ImmunoPDB.py:11: SyntaxWarning: invalid escape sequence '\\ '\n",
      "  description='''\n"
     ]
    },
    {
     "name": "stdout",
     "output_type": "stream",
     "text": [
      "Downloading PDB structure '8txq'...\n"
     ]
    },
    {
     "name": "stderr",
     "output_type": "stream",
     "text": [
      "/home/rp693/ANARCI/Example_scripts_and_sequences/ImmunoPDB.py:11: SyntaxWarning: invalid escape sequence '\\ '\n",
      "  description='''\n"
     ]
    }
   ],
   "source": [
    "from Bio.PDB import PDBList, PDBParser, Select, PDBIO\n",
    "import os\n",
    "import pandas as pd\n",
    "import warnings\n",
    "from Bio import BiopythonWarning\n",
    "import subprocess\n",
    "\n",
    "# Load input CSV file\n",
    "filename = 'input.csv'\n",
    "data = pd.read_csv(filename, header=None, names=['pdb_id', 'antigen_chain', 'heavy_chain', 'light_chain', 'antibody'])\n",
    "\n",
    "\n",
    "warnings.simplefilter('ignore', BiopythonWarning) # Suppress specific Biopython warnings\n",
    "\n",
    "class ChainSelect(Select):\n",
    "    def __init__(self, chain_letters):\n",
    "        self.chain_letters = set(chain_letters)\n",
    "\n",
    "    def accept_chain(self, chain):\n",
    "        return chain.get_id() in self.chain_letters\n",
    "\n",
    "    def accept_residue(self, residue):\n",
    "        # Exclude water and heteroatoms (non-standard amino acids including ligands, ions)\n",
    "        if residue.id[0] != ' ':\n",
    "            return False\n",
    "        # exclude water molecules\n",
    "        if residue.get_resname() == 'HOH':\n",
    "            return False\n",
    "        return True\n",
    "\n",
    "def download_and_filter_structures(data, pdb_dir):\n",
    "    pdbl = PDBList()\n",
    "    parser = PDBParser()\n",
    "    errors = []\n",
    "\n",
    "    for index, row in data.iterrows():\n",
    "        pdb_id = row['pdb_id'].strip().lower()\n",
    "        chains = [row['antigen_chain'].strip().upper(), row['heavy_chain'].strip().upper(), row['light_chain'].strip().upper()]\n",
    "        chains = [chain for chain in chains if chain]  \n",
    "        chains_str = '_'.join(chains)  \n",
    "\n",
    "        try:\n",
    "            file_path = pdbl.retrieve_pdb_file(pdb_id, pdir=pdb_dir, file_format='pdb')\n",
    "            structure = parser.get_structure(pdb_id, file_path)\n",
    "        except Exception as e:\n",
    "            errors.append(f\"Error with {pdb_id}: {str(e)}\")\n",
    "            continue\n",
    "\n",
    "        # Check if all specified chains are present\n",
    "        chain_ids = {chain.id for chain in structure.get_chains()}\n",
    "        if not all(chain in chain_ids for chain in chains):\n",
    "            errors.append(f\"Missing chains in {pdb_id}: {[chain for chain in chains if chain not in chain_ids]}\")\n",
    "            continue\n",
    "        \n",
    "        # Save new PDB file with selected chains only, excluding unwanted residues\n",
    "        io = PDBIO()\n",
    "        io.set_structure(structure)\n",
    "        output_path = os.path.join(pdb_dir, f\"{pdb_id}_{chains_str}_new.pdb\")\n",
    "        io.save(output_path, select=ChainSelect(chains))\n",
    "        \n",
    "        # Renumber the newly created pdb file\n",
    "        renumber_pdb(output_path)\n",
    "\n",
    "    remove_ent_files(pdb_dir)\n",
    "\n",
    "    return errors\n",
    "\n",
    "def renumber_pdb(pdb_path):\n",
    "    output_path = pdb_path.replace('_new.pdb', '_renumbered.pdb')\n",
    "    command = f\"python ~/ANARCI/Example_scripts_and_sequences/ImmunoPDB.py -i {pdb_path} -o {output_path} -s c\"\n",
    "    subprocess.run(command, shell=True, check=True)\n",
    "    \n",
    "    if os.path.exists(pdb_path):\n",
    "        os.remove(pdb_path)\n",
    "\n",
    "def remove_ent_files(pdb_dir):\n",
    "    for file in os.listdir(pdb_dir):\n",
    "        if file.endswith(\".ent\"):\n",
    "            os.remove(os.path.join(pdb_dir, file))\n",
    "\n",
    "pdb_dir = 'pdb_files'\n",
    "\n",
    "if not os.path.exists(pdb_dir):\n",
    "    os.makedirs(pdb_dir)\n",
    "\n",
    "errors = download_and_filter_structures(data, pdb_dir)\n",
    "\n",
    "for error in errors:\n",
    "    print(error)\n"
   ]
  },
  {
   "cell_type": "code",
   "execution_count": null,
   "id": "074275e3-5589-4a40-b6b5-ea66d90c0781",
   "metadata": {},
   "outputs": [],
   "source": []
  }
 ],
 "metadata": {
  "kernelspec": {
   "display_name": "Python 3 (ipykernel)",
   "language": "python",
   "name": "python3"
  },
  "language_info": {
   "codemirror_mode": {
    "name": "ipython",
    "version": 3
   },
   "file_extension": ".py",
   "mimetype": "text/x-python",
   "name": "python",
   "nbconvert_exporter": "python",
   "pygments_lexer": "ipython3",
   "version": "3.12.2"
  }
 },
 "nbformat": 4,
 "nbformat_minor": 5
}
